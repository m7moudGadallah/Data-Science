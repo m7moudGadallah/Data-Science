{
 "cells": [
  {
   "attachments": {},
   "cell_type": "markdown",
   "metadata": {},
   "source": [
    "# Measure of Center & Spread\n",
    "- this note contains code that i wrote to get `mean`, `mod`, `median`, `variance` & `standard deviation`"
   ]
  },
  {
   "attachments": {},
   "cell_type": "markdown",
   "metadata": {},
   "source": [
    "## Measure of Center Class"
   ]
  },
  {
   "cell_type": "code",
   "execution_count": 1,
   "metadata": {},
   "outputs": [],
   "source": [
    "class MeasureOfCenter:\n",
    "    @staticmethod\n",
    "    def mean(vals: list) -> float:\n",
    "        \"\"\"Arithmatic mean of list of values\n",
    "\n",
    "        Args:\n",
    "            vals (list): list of values\n",
    "\n",
    "        Returns:\n",
    "            float: Arithmatic mean of list of values\n",
    "        \"\"\"\n",
    "        return round(sum(vals) / len(vals), 2)\n",
    "    \n",
    "    @staticmethod\n",
    "    def median(vals: list) -> float:\n",
    "        \"\"\"get median of set of values\n",
    "\n",
    "        Args:\n",
    "            vals (list): list of values\n",
    "\n",
    "        Returns:\n",
    "            float: median of set of values\n",
    "        \"\"\"\n",
    "        svals = sorted(vals)\n",
    "        n = len(svals)\n",
    "        \n",
    "        if n % 2 == 0:\n",
    "            n //= 2\n",
    "            return round((svals[n] + svals[n  - 1]) / 2, 2)\n",
    "        else:\n",
    "            return round(svals[n // 2], 2)\n",
    "    \n",
    "    @staticmethod\n",
    "    def __getFreq(vals:list) -> dict:\n",
    "        \"\"\"frequency of elements in list\n",
    "\n",
    "        Args:\n",
    "            vals (list): elements in list\n",
    "\n",
    "        Returns:\n",
    "            dict: frequency of element in list\n",
    "        \"\"\"\n",
    "        \n",
    "        freq = dict()\n",
    "        for val in vals:\n",
    "            freq[val] = freq.get(val, 0) + 1\n",
    "        \n",
    "        return freq\n",
    "    \n",
    "    @staticmethod\n",
    "    def mod(vals: list) -> list | None:\n",
    "        \"\"\"get mod of list of values\n",
    "\n",
    "        Args:\n",
    "            vals (list): list of values\n",
    "\n",
    "        Returns:\n",
    "            list | None: list of mods if we have mods or None if we don't have mods\n",
    "        \"\"\"\n",
    "        freq = MeasureOfCenter.__getFreq(vals)      #get freqency of each element in list\n",
    "        mx_freq = max(freq.values())                #getting max frequency\n",
    "        no_of_max_freq = list(freq.values()).count(mx_freq)     #getting frequency of mx_freq\n",
    "        \n",
    "        if no_of_max_freq == len(freq):     # that is means all elements have that same freqency so in this case no mod\n",
    "            return None\n",
    "        \n",
    "        ans = list()                    #list of mods\n",
    "        for key, val in freq.items():\n",
    "            if (val == mx_freq):\n",
    "                ans.append(key)\n",
    "        \n",
    "        return ans\n"
   ]
  },
  {
   "attachments": {},
   "cell_type": "markdown",
   "metadata": {},
   "source": [
    "## Measure of Spred Class"
   ]
  },
  {
   "cell_type": "code",
   "execution_count": 3,
   "metadata": {},
   "outputs": [],
   "source": [
    "from math import sqrt\n",
    "\n",
    "class MeasureOfSpred:\n",
    "    @staticmethod\n",
    "    def variance(vals: list) -> float:\n",
    "        mean_vals = MeasureOfCenter.mean(vals)\n",
    "        new_vals = [(val - mean_vals)**2 for val in vals]\n",
    "        return MeasureOfCenter.mean(new_vals)\n",
    "    \n",
    "    @staticmethod\n",
    "    def standard_deviation(vals: list) -> float:\n",
    "        return round(sqrt(MeasureOfSpred.variance(vals)), 2)"
   ]
  },
  {
   "attachments": {},
   "cell_type": "markdown",
   "metadata": {},
   "source": [
    "## TestDriver\n",
    "now we will test our code"
   ]
  },
  {
   "cell_type": "code",
   "execution_count": 6,
   "metadata": {},
   "outputs": [
    {
     "name": "stdout",
     "output_type": "stream",
     "text": [
      "Mean: 3.0\n",
      "Median: 3.0\n",
      "mod: [2, 3]\n",
      "Vriance: 1.6\n",
      "Standard Deviation: 1.26\n",
      "-----------------------------------------------\n"
     ]
    }
   ],
   "source": [
    "def main():\n",
    "    vals = [1, 2, 2, 2, 5, 3, 4, 3, 3, 5]\n",
    "    print(f'Mean: {MeasureOfCenter.mean(vals)}')\n",
    "    print(f'Median: {MeasureOfCenter.median(vals)}')\n",
    "    print(f'mod: {MeasureOfCenter.mod(vals)}')\n",
    "    print(f'Vriance: {MeasureOfSpred.variance(vals)}')\n",
    "    print(f'Standard Deviation: {MeasureOfSpred.standard_deviation(vals)}')\n",
    "    print('-----------------------------------------------')\n",
    "\n",
    "\n",
    "main()"
   ]
  }
 ],
 "metadata": {
  "kernelspec": {
   "display_name": "Python 3",
   "language": "python",
   "name": "python3"
  },
  "language_info": {
   "codemirror_mode": {
    "name": "ipython",
    "version": 3
   },
   "file_extension": ".py",
   "mimetype": "text/x-python",
   "name": "python",
   "nbconvert_exporter": "python",
   "pygments_lexer": "ipython3",
   "version": "3.11.0"
  },
  "orig_nbformat": 4,
  "vscode": {
   "interpreter": {
    "hash": "ef4901b8939f495b89bc3afa7c816cb72403b8661596d91e2148a27d3746114a"
   }
  }
 },
 "nbformat": 4,
 "nbformat_minor": 2
}
