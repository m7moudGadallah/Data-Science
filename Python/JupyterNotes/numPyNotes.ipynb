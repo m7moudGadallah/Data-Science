{
 "cells": [
  {
   "attachments": {},
   "cell_type": "markdown",
   "metadata": {},
   "source": [
    "# Numpy"
   ]
  },
  {
   "attachments": {},
   "cell_type": "markdown",
   "metadata": {},
   "source": [
    "## <span style=\"color: #cccc32\">How to import numpy</span>\n",
    "- if we don't have numpy we can install it with using this command `pip install numpy`\n",
    "\n",
    "**<span style=\"color: #bc315b\">1- with object</span>**\n",
    "```python\n",
    "import numpy as np\n",
    "```\n",
    "in this case we call any function in numpy using \n",
    "```python\n",
    "np.sin(np.deg2rad(30))\n",
    "```\n",
    "\n",
    "**<span style=\"color:#bc315b\">2- with '*'</span>**\n",
    "```python\n",
    "from numpy import *\n",
    "```\n",
    "in this case we call any function directly without object using\n",
    "```python\n",
    "sin(deg2rad(30))\n",
    "```"
   ]
  },
  {
   "attachments": {},
   "cell_type": "markdown",
   "metadata": {},
   "source": [
    "## <span style=\"color: #cccc32\">Math Operations</span>\n",
    "### <span style=\"color: #49a9b7\">Trigonometric Functions</span>\n",
    "- in python all Trigonomtric function designed to path angles for it in ``rad`` form"
   ]
  },
  {
   "cell_type": "code",
   "execution_count": 6,
   "metadata": {},
   "outputs": [
    {
     "name": "stdout",
     "output_type": "stream",
     "text": [
      "wrong sin: -0.99\n",
      "sin: 0.5\n",
      "sin: 0.5\n",
      "-------------\n",
      "cos: 0.87\n",
      "-------------\n",
      "tan: 0.58\n",
      "-------------\n"
     ]
    }
   ],
   "source": [
    "from numpy import *\n",
    "\n",
    "angle = 30\n",
    "\n",
    "print('wrong sin: {}'.format(round(sin(angle), 2)))       #wrong becuase we should pass angle in rad form\n",
    "print('sin: {}'.format(round(sin(angle*pi / 180), 2)))\n",
    "print('sin: {}'.format(round(sin(deg2rad(angle)), 2)))\n",
    "print('-------------')\n",
    "\n",
    "print('cos: {}'.format(round(cos(deg2rad(angle)), 2)))\n",
    "print('-------------')\n",
    "\n",
    "print(f'tan: {round(tan(deg2rad(angle)), 2)}')\n",
    "print('-------------')"
   ]
  },
  {
   "attachments": {},
   "cell_type": "markdown",
   "metadata": {},
   "source": [
    "### <span style=\"color: #49a9b7\">Rounding</span>\n",
    "- `round` : rounds up to the nearest Integer which can be above or below or even equal to the actual value.\n",
    "- `ceil`  : rounds up to the nearest Integer which can be equal to or below the actual value.\n",
    "- `floor` : rounds up to the nearest Integer which can be equal to or above the actual value."
   ]
  },
  {
   "cell_type": "code",
   "execution_count": 1,
   "metadata": {},
   "outputs": [
    {
     "name": "stdout",
     "output_type": "stream",
     "text": [
      "round(10.4): 10\n",
      "round(10.5): 10\n",
      "-------------\n",
      "floor(10.5): 10.0\n",
      "floor(10.6): 10.0\n",
      "-------------\n",
      "ceil(10.5): 11.0\n",
      "ceil(10.4): 11.0\n",
      "-------------\n"
     ]
    }
   ],
   "source": [
    "from numpy import *\n",
    "\n",
    "print(f'round(10.4): {round(10.4)}')\n",
    "print(f'round(10.5): {round(10.5)}')\n",
    "print('-------------')\n",
    "print(f'floor(10.5): {floor(10.5)}')\n",
    "print(f'floor(10.6): {floor(10.6)}')\n",
    "print('-------------')\n",
    "print(f'ceil(10.5): {ceil(10.5)}')\n",
    "print(f'ceil(10.4): {ceil(10.4)}')\n",
    "print('-------------')"
   ]
  },
  {
   "attachments": {},
   "cell_type": "markdown",
   "metadata": {},
   "source": [
    "### <span style=\"color: #49a9b7\">Mod&Power</span>\n",
    "- `mod` : do the same of function of `%` to get remainder\n",
    "- `power`: do the smae of function of `**`"
   ]
  },
  {
   "cell_type": "code",
   "execution_count": 7,
   "metadata": {},
   "outputs": [
    {
     "name": "stdout",
     "output_type": "stream",
     "text": [
      "mod funciton: 1\n",
      "% operator: 1\n",
      "-------------\n",
      "power funciton: 100\n",
      "** operator: 100\n",
      "-------------\n"
     ]
    }
   ],
   "source": [
    "from numpy import *\n",
    "\n",
    "print(f'mod funciton: {mod(10, 3)}')\n",
    "print(f'% operator: {10 % 3}')\n",
    "print('-------------')\n",
    "\n",
    "print(f'power funciton: {power(10, 2)}')\n",
    "print(f'** operator: {10**2}')\n",
    "print('-------------')\n"
   ]
  },
  {
   "attachments": {},
   "cell_type": "markdown",
   "metadata": {},
   "source": [
    "## <span style=\"color: #cccc32\">Arrays</span>"
   ]
  },
  {
   "attachments": {},
   "cell_type": "markdown",
   "metadata": {},
   "source": [
    "### <span style=\"color: #49a9b7\">1D Arrays</span>"
   ]
  },
  {
   "cell_type": "code",
   "execution_count": 22,
   "metadata": {},
   "outputs": [
    {
     "name": "stdout",
     "output_type": "stream",
     "text": [
      "[1, 2, 3, 4, 5]\n",
      "<class 'list'>\n",
      "-------------\n",
      "[1 2 3 4 5]\n",
      "<class 'numpy.ndarray'>\n",
      "-------------\n"
     ]
    }
   ],
   "source": [
    "from numpy import *\n",
    "\n",
    "ls = [1, 2, 3, 4, 5]\n",
    "\n",
    "arr =array(ls)\n",
    "\n",
    "print(ls)       #note that numbers seperated with ',' that means it's list\n",
    "print(type(ls))\n",
    "print('-------------')\n",
    "\n",
    "print(arr)\n",
    "print(type(arr))\n",
    "print('-------------')"
   ]
  },
  {
   "attachments": {},
   "cell_type": "markdown",
   "metadata": {},
   "source": [
    "### <span style=\"color: #49a9b7\">2D Arrays</span>"
   ]
  },
  {
   "cell_type": "code",
   "execution_count": 24,
   "metadata": {},
   "outputs": [
    {
     "name": "stdout",
     "output_type": "stream",
     "text": [
      "[[1, 2, 3], [4, 5, 6], [7, 8, 9]]\n",
      "<class 'list'>\n",
      "-------------\n",
      "[[1 2 3]\n",
      " [4 5 6]\n",
      " [7 8 9]]\n",
      "<class 'numpy.ndarray'>\n",
      "-------------\n"
     ]
    }
   ],
   "source": [
    "from numpy import *\n",
    "\n",
    "ls = [[1, 2, 3], [4, 5, 6], [7, 8, 9]]\n",
    "\n",
    "grid = array(ls)\n",
    "\n",
    "print(ls)       #note that numbers seperated with ',' that means it's list\n",
    "print(type(ls))\n",
    "print('-------------')\n",
    "\n",
    "print(grid)\n",
    "print(type(grid))\n",
    "print('-------------')"
   ]
  },
  {
   "attachments": {},
   "cell_type": "markdown",
   "metadata": {},
   "source": [
    "💡create 2D Array using `list comprehension` with use `range()`"
   ]
  },
  {
   "cell_type": "code",
   "execution_count": 25,
   "metadata": {},
   "outputs": [
    {
     "name": "stdout",
     "output_type": "stream",
     "text": [
      "[[2 3 4]\n",
      " [4 5 6]\n",
      " [6 7 8]]\n",
      "<class 'numpy.ndarray'>\n",
      "-------------\n"
     ]
    }
   ],
   "source": [
    "from numpy import *\n",
    "\n",
    "ls = [2, 4, 6]\n",
    "\n",
    "grid = array([range(i, i+3) for i in ls])\n",
    "\n",
    "print(grid)\n",
    "print(type(grid))\n",
    "print('-------------')"
   ]
  },
  {
   "attachments": {},
   "cell_type": "markdown",
   "metadata": {},
   "source": [
    "### <span style=\"color: #49a9b7\">Naming data in Array</span>"
   ]
  },
  {
   "cell_type": "code",
   "execution_count": 29,
   "metadata": {},
   "outputs": [
    {
     "name": "stdout",
     "output_type": "stream",
     "text": [
      "[('x', 3, 4.2) ('y', 4, 5.3) ('z', 5, 6.3)]\n",
      "<class 'numpy.ndarray'>\n",
      "-------------\n"
     ]
    }
   ],
   "source": [
    "from numpy import *\n",
    "\n",
    "a = array([('x', 3, 4.2), ('y', 4, 5.3), ('z', 5, 6.3)],\n",
    "          dtype = [('name', 'U5'), ('number', 'i2'), ('value', 'f4')])\n",
    "                    #'U5' means string with 5 char\n",
    "                    # 'i2' means integer with 2 digits\n",
    "                    #'f4' means float with 4 digits\n",
    "\n",
    "print(a)\n",
    "print(type(a))\n",
    "print('-------------')"
   ]
  },
  {
   "attachments": {},
   "cell_type": "markdown",
   "metadata": {},
   "source": [
    "### <span style=\"color: #49a9b7\">Empty Array</span>"
   ]
  },
  {
   "cell_type": "code",
   "execution_count": 30,
   "metadata": {},
   "outputs": [
    {
     "name": "stdout",
     "output_type": "stream",
     "text": [
      "[[0. 0.]\n",
      " [0. 0.]\n",
      " [0. 0.]]\n",
      "<class 'numpy.ndarray'>\n",
      "-------------\n"
     ]
    }
   ],
   "source": [
    "a = empty((3, 2))       #create empty 3x2 matrix intialized with 0\n",
    "\n",
    "print(a)\n",
    "print(type(a))\n",
    "print('-------------')"
   ]
  },
  {
   "attachments": {},
   "cell_type": "markdown",
   "metadata": {},
   "source": [
    "### <span style=\"color: #49a9b7\">Random Array</span>\n",
    "- we can get random values with using `random.uniform(l, r, num_values)`\n",
    "- `l`: start, `r`: end, `num_values`: how many numbers we wnat `uniform()` function to generate"
   ]
  },
  {
   "cell_type": "code",
   "execution_count": 40,
   "metadata": {},
   "outputs": [
    {
     "name": "stdout",
     "output_type": "stream",
     "text": [
      "6.6511880322125805\n",
      "<class 'float'>\n",
      "-------------\n",
      "[8.35525037 8.59086426 5.93283675 7.32542051 7.7444691  4.56659844\n",
      " 2.3300579  7.18839791 8.33632801 5.43938625 1.67678956 8.95482885\n",
      " 4.91981831 9.64583426 6.60448032 2.12200438 1.49793073 8.93486746\n",
      " 6.74385838 4.26980647]\n",
      "---sorted--------\n",
      "[1.49793073 1.67678956 2.12200438 2.3300579  4.26980647 4.56659844\n",
      " 4.91981831 5.43938625 5.93283675 6.60448032 6.74385838 7.18839791\n",
      " 7.32542051 7.7444691  8.33632801 8.35525037 8.59086426 8.93486746\n",
      " 8.95482885 9.64583426]\n",
      "<class 'numpy.ndarray'>\n",
      "-------------\n"
     ]
    }
   ],
   "source": [
    "from numpy import *\n",
    "\n",
    "a = random.uniform(1, 10)       #generate just one value\n",
    "b = random.uniform(1, 10, 20)   #generate 20 values\n",
    "\n",
    "print(a)\n",
    "print(type(a))\n",
    "print('-------------')\n",
    "\n",
    "print(b)\n",
    "b.sort()\n",
    "print('---sorted--------')\n",
    "print(b)\n",
    "print(type(b))\n",
    "print('-------------')"
   ]
  },
  {
   "attachments": {},
   "cell_type": "markdown",
   "metadata": {},
   "source": [
    "<span style=\"color:#41bc66\">**random.random**</span>\n",
    "- this method generate `random` numbers from 0 --> 1"
   ]
  },
  {
   "cell_type": "code",
   "execution_count": 47,
   "metadata": {},
   "outputs": [
    {
     "name": "stdout",
     "output_type": "stream",
     "text": [
      "[[0.86014416 0.44903701 0.36945826]\n",
      " [0.44994506 0.4913154  0.75343111]]\n",
      "[[8.60144162 4.49037006 3.69458255]\n",
      " [4.49945063 4.91315402 7.53431112]]\n",
      "[[18.60144162 14.49037006 13.69458255]\n",
      " [14.49945063 14.91315402 17.53431112]]\n"
     ]
    }
   ],
   "source": [
    "from numpy import *\n",
    "\n",
    "a = random.random((2, 3))       #generate random 2x3 matrix it's values between 0->1\n",
    "\n",
    "print(a)\n",
    "\n",
    "a *= 10                        #mutliply it's values by 10 so it's values will be between 0->10\n",
    "\n",
    "print(a)\n",
    "\n",
    "a += 10                     #just adding 10 to it's values so it's values will be between 10 --> 20\n",
    "print(a)"
   ]
  },
  {
   "attachments": {},
   "cell_type": "markdown",
   "metadata": {},
   "source": [
    "<span style=\"color:#41bc66\">**random.normal**</span>\n",
    "\n",
    "is used to get normal distribution of some values"
   ]
  },
  {
   "cell_type": "code",
   "execution_count": 49,
   "metadata": {},
   "outputs": [
    {
     "name": "stdout",
     "output_type": "stream",
     "text": [
      "[-1.98053867  0.16185355  1.33854811  0.98429316  1.74139616 -0.17478025\n",
      " -0.48150579  0.36714585 -0.90277739  1.03221693]\n"
     ]
    }
   ],
   "source": [
    "from numpy import *\n",
    "\n",
    "a = random.normal(0, 1, 10)\n",
    "\n",
    "print(a)"
   ]
  },
  {
   "attachments": {},
   "cell_type": "markdown",
   "metadata": {},
   "source": [
    "<span style=\"color:#41bc66\">random.randint</span>\n",
    "- getting random integer values"
   ]
  },
  {
   "cell_type": "code",
   "execution_count": 5,
   "metadata": {},
   "outputs": [
    {
     "name": "stdout",
     "output_type": "stream",
     "text": [
      "-----a------\n",
      "3\n",
      "<class 'int'>\n",
      "-----b-------\n",
      "[0 4 0 3 1 1 2]\n",
      "<class 'numpy.ndarray'>\n",
      "-----x-------\n",
      "[ 6 14 12  8 17 18  6]\n",
      "<class 'numpy.ndarray'>\n",
      "------y------\n",
      "[[11 14 18]\n",
      " [16  7  6]\n",
      " [15  5 18]]\n",
      "<class 'numpy.ndarray'>\n",
      "------z------\n",
      "[[[16 15  7]\n",
      "  [19 11  9]\n",
      "  [ 6 15  9]]\n",
      "\n",
      " [[ 5  7 15]\n",
      "  [ 8 17 19]\n",
      "  [ 7  8  8]]]\n",
      "<class 'numpy.ndarray'>\n",
      "-------------\n"
     ]
    }
   ],
   "source": [
    "from numpy import *\n",
    "\n",
    "a = random.randint(5)           #return just 1 number\n",
    "\n",
    "b = random.randint(5, size=7)       #return array of size 7 \n",
    "\n",
    "x = random.randint(5, 20, size=7)       #random values will be 5 >= values < 20\n",
    "\n",
    "y = random.randint(5, 20, (3, 3))       #random values in matrix of size 3x3\n",
    "\n",
    "z = random.randint(5, 20, (2, 3, 3))    #rnadom values in 3d matrix of size 2x3x3\n",
    "\n",
    "print('-----a------')\n",
    "print(a)\n",
    "print(type(a))\n",
    "\n",
    "print('-----b-------')\n",
    "print(b)\n",
    "print(type(b))\n",
    "\n",
    "print('-----x-------')\n",
    "print(x)\n",
    "print(type(x))\n",
    "\n",
    "print('------y------')\n",
    "print(y)\n",
    "print(type(y))\n",
    "\n",
    "print('------z------')\n",
    "print(z)\n",
    "print(type(z))\n",
    "print('-------------')\n"
   ]
  },
  {
   "attachments": {},
   "cell_type": "markdown",
   "metadata": {},
   "source": [
    "- `reshape()` this method we can use it if we have a list of number and we wnat to reshape it in 2d matrix\n",
    "    or another shap but we must ensure that `len(list)` is compatible with new shap"
   ]
  },
  {
   "cell_type": "code",
   "execution_count": 9,
   "metadata": {},
   "outputs": [
    {
     "name": "stdout",
     "output_type": "stream",
     "text": [
      "-----a-------\n",
      "[35 40 33 46  3 32 40  6 19 15  9 27 58  5  7 46 11 58 22 56 19 52  1  9\n",
      " 50]\n",
      "<class 'numpy.ndarray'>\n",
      "-----b------\n",
      "[[35 40 33 46  3]\n",
      " [32 40  6 19 15]\n",
      " [ 9 27 58  5  7]\n",
      " [46 11 58 22 56]\n",
      " [19 52  1  9 50]]\n",
      "<class 'numpy.ndarray'>\n",
      "-------------\n"
     ]
    }
   ],
   "source": [
    "from numpy import *\n",
    "\n",
    "a = random.randint(1, 60, 25)           #generate an array of 25 random elements in range 1<= vals < 60\n",
    "\n",
    "b = reshape(a, (5, 5))              #reshape array a to 2D Array of size 5x5\n",
    "\n",
    "print('-----a-------')\n",
    "print(a)\n",
    "print(type(a))\n",
    "\n",
    "print('-----b------')\n",
    "print(b)\n",
    "print(type(b))\n",
    "print('-------------')"
   ]
  },
  {
   "attachments": {},
   "cell_type": "markdown",
   "metadata": {},
   "source": [
    "<span style=\"color:#41bc66\">**random.rand()**</span>\n",
    "- this mehtod do the same thing of `uniform()` reutrn random values from 0 --> 1\n",
    "- it has some advantage that if i pass 1 dimension or more than one "
   ]
  },
  {
   "cell_type": "code",
   "execution_count": 12,
   "metadata": {},
   "outputs": [
    {
     "name": "stdout",
     "output_type": "stream",
     "text": [
      "------a-------\n",
      "[0.52966046]\n",
      "<class 'numpy.ndarray'>\n",
      "------b-------\n",
      "[0.64226043 0.50581055 0.81899322 0.28918178 0.48022607 0.35772815\n",
      " 0.0188346  0.86704258 0.35917433 0.30371867 0.74986761 0.22731163\n",
      " 0.76170547 0.70368947 0.90225148]\n",
      "<class 'numpy.ndarray'>\n",
      "------c------\n",
      "[[0.08197236 0.76812523 0.43438084 0.03480177 0.81150968]\n",
      " [0.09193523 0.86110363 0.56589955 0.83548073 0.0261031 ]\n",
      " [0.90306937 0.25701887 0.05077782 0.61034724 0.33202945]]\n",
      "<class 'numpy.ndarray'>\n",
      "------d-------\n",
      "[[[0.61425652 0.74410471 0.68037153 0.26284637 0.63575013]\n",
      "  [0.52925445 0.26927961 0.8675419  0.90639509 0.13791938]\n",
      "  [0.88010914 0.88717705 0.69461119 0.02455665 0.44455293]]\n",
      "\n",
      " [[0.11740865 0.73864846 0.9707813  0.79901074 0.70954128]\n",
      "  [0.17980517 0.32790773 0.09528888 0.76472996 0.86061068]\n",
      "  [0.04882949 0.80872788 0.08407256 0.03933752 0.15818748]]]\n",
      "<class 'numpy.ndarray'>\n",
      "-------------\n"
     ]
    }
   ],
   "source": [
    "from numpy import *\n",
    "\n",
    "a = random.rand(1)                      #return just array of size 1\n",
    "\n",
    "b = random.rand(15)                     #return array of size 15\n",
    "\n",
    "c = random.rand(3, 5)                 #return matrix of size 3x5\n",
    "\n",
    "d = random.rand(2, 3, 5)            #return 3D matrix of size 2x3x5            \n",
    "\n",
    "\n",
    "print('------a-------')\n",
    "print(a)\n",
    "print(type(a))\n",
    "\n",
    "print('------b-------')\n",
    "print(b)\n",
    "print(type(b))\n",
    "\n",
    "print('------c------')\n",
    "print(c)\n",
    "print(type(c))\n",
    "\n",
    "print('------d-------')\n",
    "print(d)\n",
    "print(type(d))\n",
    "print('-------------')"
   ]
  },
  {
   "attachments": {},
   "cell_type": "markdown",
   "metadata": {},
   "source": [
    "<span style=\"color:#41bc66\">**random.choice()**</span>\n",
    "- return random value from list"
   ]
  },
  {
   "cell_type": "code",
   "execution_count": 14,
   "metadata": {},
   "outputs": [
    {
     "name": "stdout",
     "output_type": "stream",
     "text": [
      "3\n",
      "<class 'numpy.int32'>\n",
      "-------------\n"
     ]
    }
   ],
   "source": [
    "from numpy import *\n",
    "\n",
    "y = [1, 2, 3, 5, 6, 10]\n",
    "a = random.choice(y)\n",
    "\n",
    "print(a)\n",
    "print(type(a))\n",
    "print('-------------')"
   ]
  },
  {
   "attachments": {},
   "cell_type": "markdown",
   "metadata": {},
   "source": [
    "<span style=\"color:#41bc66\">**random.shuffle()**</span>\n",
    "- using to randomly reorder `list` or `array`"
   ]
  },
  {
   "cell_type": "code",
   "execution_count": 16,
   "metadata": {},
   "outputs": [
    {
     "name": "stdout",
     "output_type": "stream",
     "text": [
      "-------y before shuffle-----\n",
      "[1, 2, 3, 6, 9, 8, 5, 4, 7, 8, 9, 6, 5, 9, 6]\n",
      "-------y after shuffle------\n",
      "[5, 7, 6, 6, 5, 6, 1, 8, 9, 2, 8, 9, 3, 4, 9]\n",
      "-------------\n"
     ]
    }
   ],
   "source": [
    "from numpy import *\n",
    "\n",
    "y = [1, 2, 3, 6, 9, 8, 5, 4, 7, 8, 9, 6, 5, 9, 6]\n",
    "\n",
    "print('-------y before shuffle-----')\n",
    "print(y)\n",
    "\n",
    "random.shuffle(y)\n",
    "print('-------y after shuffle------')\n",
    "print(y)\n",
    "print('-------------')"
   ]
  },
  {
   "attachments": {},
   "cell_type": "markdown",
   "metadata": {},
   "source": [
    "### <span style=\"color: #49a9b7\"> Zeroes & Ones</span>\n",
    "- `zeroes`: create array of zero initial values\n",
    "- `ones` : create array of ones initial values"
   ]
  },
  {
   "cell_type": "code",
   "execution_count": 17,
   "metadata": {},
   "outputs": [
    {
     "name": "stdout",
     "output_type": "stream",
     "text": [
      "------a-------\n",
      "[0. 0. 0. 0. 0.]\n",
      "<class 'numpy.ndarray'>\n",
      "------b-------\n",
      "[1. 1. 1. 1. 1. 1. 1. 1. 1. 1.]\n",
      "<class 'numpy.ndarray'>\n",
      "-------------\n"
     ]
    }
   ],
   "source": [
    "from numpy import *\n",
    "\n",
    "a = zeros(5)\n",
    "\n",
    "b = ones(10)\n",
    "\n",
    "print('------a-------')\n",
    "print(a)\n",
    "print(type(a))\n",
    "\n",
    "print('------b-------')\n",
    "print(b)\n",
    "print(type(b))\n",
    "print('-------------')"
   ]
  },
  {
   "cell_type": "code",
   "execution_count": 18,
   "metadata": {},
   "outputs": [
    {
     "name": "stdout",
     "output_type": "stream",
     "text": [
      "------a-------\n",
      "[[0. 0. 0.]\n",
      " [0. 0. 0.]]\n",
      "<class 'numpy.ndarray'>\n",
      "------b-------\n",
      "[[1. 1. 1.]\n",
      " [1. 1. 1.]]\n",
      "<class 'numpy.ndarray'>\n",
      "-------------\n"
     ]
    }
   ],
   "source": [
    "from numpy import *\n",
    "\n",
    "a = zeros((2, 3))\n",
    "\n",
    "b = ones((2, 3))\n",
    "\n",
    "print('------a-------')\n",
    "print(a)\n",
    "print(type(a))\n",
    "\n",
    "print('------b-------')\n",
    "print(b)\n",
    "print(type(b))\n",
    "print('-------------')"
   ]
  },
  {
   "cell_type": "code",
   "execution_count": 19,
   "metadata": {},
   "outputs": [
    {
     "name": "stdout",
     "output_type": "stream",
     "text": [
      "------a-------\n",
      "[[[0. 0.]\n",
      "  [0. 0.]\n",
      "  [0. 0.]]\n",
      "\n",
      " [[0. 0.]\n",
      "  [0. 0.]\n",
      "  [0. 0.]]]\n",
      "<class 'numpy.ndarray'>\n",
      "------b-------\n",
      "[[[1. 1.]\n",
      "  [1. 1.]\n",
      "  [1. 1.]]\n",
      "\n",
      " [[1. 1.]\n",
      "  [1. 1.]\n",
      "  [1. 1.]]]\n",
      "<class 'numpy.ndarray'>\n",
      "-------------\n"
     ]
    }
   ],
   "source": [
    "from numpy import *\n",
    "\n",
    "a = zeros((2, 3, 2))\n",
    "\n",
    "b = ones((2, 3, 2))\n",
    "\n",
    "print('------a-------')\n",
    "print(a)\n",
    "print(type(a))\n",
    "\n",
    "print('------b-------')\n",
    "print(b)\n",
    "print(type(b))\n",
    "print('-------------')"
   ]
  },
  {
   "attachments": {},
   "cell_type": "markdown",
   "metadata": {},
   "source": [
    "### <span style=\"color: #49a9b7\">eye</span>\n",
    "- create identity matrix which is matrix all elements are zeroes and only main diagonal is ones"
   ]
  },
  {
   "cell_type": "code",
   "execution_count": 20,
   "metadata": {},
   "outputs": [
    {
     "name": "stdout",
     "output_type": "stream",
     "text": [
      "[[1. 0. 0.]\n",
      " [0. 1. 0.]\n",
      " [0. 0. 1.]]\n",
      "<class 'numpy.ndarray'>\n",
      "-------------\n"
     ]
    }
   ],
   "source": [
    "from numpy import *\n",
    "\n",
    "a = eye(3)\n",
    "\n",
    "print(a)\n",
    "print(type(a))\n",
    "print('-------------')"
   ]
  },
  {
   "attachments": {},
   "cell_type": "markdown",
   "metadata": {},
   "source": [
    "### <span style=\"color: #49a9b7\"> full</span>\n",
    "- use to fill matrix with specific value"
   ]
  },
  {
   "cell_type": "code",
   "execution_count": 21,
   "metadata": {},
   "outputs": [
    {
     "name": "stdout",
     "output_type": "stream",
     "text": [
      "[[35 35 35 35 35]\n",
      " [35 35 35 35 35]\n",
      " [35 35 35 35 35]]\n",
      "-------------\n"
     ]
    }
   ],
   "source": [
    "from numpy import *\n",
    "a = full((3, 5), 35)\n",
    "\n",
    "print(a)\n",
    "print('-------------')"
   ]
  },
  {
   "attachments": {},
   "cell_type": "markdown",
   "metadata": {},
   "source": [
    "### <span style=\"color: #49a9b7\"> arange()</span>\n",
    "- use to get an array contains numbers in range "
   ]
  },
  {
   "cell_type": "code",
   "execution_count": 6,
   "metadata": {},
   "outputs": [
    {
     "name": "stdout",
     "output_type": "stream",
     "text": [
      "[0 1 2 3 4 5 6 7 8 9]\n",
      "-------------\n"
     ]
    }
   ],
   "source": [
    "from numpy import *\n",
    "\n",
    "a = arange(10)          #return array of element in range 0 <=ele< 10\n",
    "\n",
    "print(a)\n",
    "print('-------------')"
   ]
  },
  {
   "cell_type": "code",
   "execution_count": 7,
   "metadata": {},
   "outputs": [
    {
     "name": "stdout",
     "output_type": "stream",
     "text": [
      "[[ 1  2  3  4  5  6]\n",
      " [ 7  8  9 10 11 12]\n",
      " [13 14 15 16 17 18]]\n",
      "-------------\n"
     ]
    }
   ],
   "source": [
    "from numpy import *\n",
    "\n",
    "a = arange(1, 19).reshape(3, 6)\n",
    "\n",
    "print(a)\n",
    "print('-------------')"
   ]
  },
  {
   "attachments": {},
   "cell_type": "markdown",
   "metadata": {},
   "source": [
    "### <span style=\"color: #49a9b7\"> linspace</span>\n",
    "- returns number spaces with in defined interval similar to `arange()` but `arrange()` use fixed step with 1\n",
    "- we can convert returned array to matrix with using `reshape()`"
   ]
  },
  {
   "cell_type": "code",
   "execution_count": 8,
   "metadata": {},
   "outputs": [
    {
     "name": "stdout",
     "output_type": "stream",
     "text": [
      "[  0.  25.  50.  75. 100.]\n",
      "-------------\n"
     ]
    }
   ],
   "source": [
    "from numpy import *\n",
    "\n",
    "a = linspace(0, 100, 5)\n",
    "\n",
    "print(a)\n",
    "print('-------------')"
   ]
  },
  {
   "attachments": {},
   "cell_type": "markdown",
   "metadata": {},
   "source": [
    "### <span style=\"color: #49a9b7\"> Diagnoal Matrix</span>\n",
    "- matrix that main digonal has values and all other elements are Zeros"
   ]
  },
  {
   "cell_type": "code",
   "execution_count": 9,
   "metadata": {},
   "outputs": [
    {
     "name": "stdout",
     "output_type": "stream",
     "text": [
      "------a-------\n",
      "[[ 5  0  0  0  0]\n",
      " [ 0 12  0  0  0]\n",
      " [ 0  0  4  0  0]\n",
      " [ 0  0  0 -1  0]\n",
      " [ 0  0  0  0  3]]\n",
      "------b-------\n",
      "[[ 0  0  0  5  0  0  0  0]\n",
      " [ 0  0  0  0 12  0  0  0]\n",
      " [ 0  0  0  0  0  4  0  0]\n",
      " [ 0  0  0  0  0  0 -1  0]\n",
      " [ 0  0  0  0  0  0  0  3]\n",
      " [ 0  0  0  0  0  0  0  0]\n",
      " [ 0  0  0  0  0  0  0  0]\n",
      " [ 0  0  0  0  0  0  0  0]]\n",
      "-------------\n"
     ]
    }
   ],
   "source": [
    "from numpy import *\n",
    "\n",
    "a = diag(array([5, 12, 4, -1, 3]))              #create matrix 5x5 this values will be on main digonal\n",
    "b = diag(array([5, 12, 4, -1, 3]), k=3)         #create diagonal matrix of 5x5 with this values then add 3 columns & rows so it will be 8x8\n",
    "\n",
    "print('------a-------')\n",
    "print(a)\n",
    "\n",
    "print('------b-------')\n",
    "print(b)\n",
    "print('-------------')"
   ]
  },
  {
   "attachments": {},
   "cell_type": "markdown",
   "metadata": {},
   "source": [
    "### <span style=\"color: #49a9b7\"> Dealing with Matrices</span>"
   ]
  },
  {
   "attachments": {},
   "cell_type": "markdown",
   "metadata": {},
   "source": [
    "<span style=\"color:#41bc66\">**count_nonzero(matrix_name)**</span>\n",
    "- this method count numbers in matrix that is not zero and also we can path to it condation like a>5 (a is matrix) so in this case will count matrix elements that greater than 5"
   ]
  },
  {
   "cell_type": "code",
   "execution_count": 8,
   "metadata": {},
   "outputs": [
    {
     "name": "stdout",
     "output_type": "stream",
     "text": [
      "[[9 0 7]\n",
      " [2 7 8]\n",
      " [0 0 5]]\n",
      "6\n",
      "4\n",
      "3\n"
     ]
    }
   ],
   "source": [
    "from numpy import *\n",
    "\n",
    "\n",
    "a = random.randint(0, 10, (3, 3))\n",
    "\n",
    "print(a)\n",
    "print(count_nonzero(a))\n",
    "print(count_nonzero(a > 5))\n",
    "print(count_nonzero(a < 1))"
   ]
  },
  {
   "cell_type": "code",
   "execution_count": 15,
   "metadata": {},
   "outputs": [
    {
     "name": "stdout",
     "output_type": "stream",
     "text": [
      "[[8 0 6]\n",
      " [9 3 6]\n",
      " [7 9 4]]\n",
      "-------------\n",
      "[0 1 0]\n",
      "[1 0 0]\n"
     ]
    }
   ],
   "source": [
    "from numpy import *\n",
    "\n",
    "a = random.randint(0, 10, (3, 3))\n",
    "\n",
    "print(a)\n",
    "print('-------------')\n",
    "print(count_nonzero(a < 3, axis=0))                 #count number of non_zeroes in each column\n",
    "print(count_nonzero(a < 3, axis=1))                 #count number of non_zeroes in each row"
   ]
  },
  {
   "attachments": {},
   "cell_type": "markdown",
   "metadata": {},
   "source": [
    "<span style=\"color:#41bc66\">**any(condation)**</span>\n",
    "- return true if any element on the matrix satisfye the condation"
   ]
  },
  {
   "cell_type": "code",
   "execution_count": 17,
   "metadata": {},
   "outputs": [
    {
     "name": "stdout",
     "output_type": "stream",
     "text": [
      "[[2 8 0]\n",
      " [8 5 0]\n",
      " [2 8 3]]\n",
      "-------------\n",
      "True\n",
      "[ True False  True]\n",
      "[ True  True  True]\n"
     ]
    }
   ],
   "source": [
    "from numpy import *\n",
    "\n",
    "a = random.randint(0, 10, (3, 3))\n",
    "\n",
    "print(a)\n",
    "print('-------------')\n",
    "print(any(a<5))                                         #return True if any element in matrix is less than 5\n",
    "print(any(a<5, axis=0))                                 #return list of True or False for each column\n",
    "print(any(a<5, axis=1))                                 #return list of True or False for each row"
   ]
  },
  {
   "attachments": {},
   "cell_type": "markdown",
   "metadata": {},
   "source": [
    "<span style=\"color:#41bc66\">**all(condation)**</span>\n",
    "- reutrn True if all elements in matrix satisfye the condation"
   ]
  },
  {
   "cell_type": "code",
   "execution_count": 34,
   "metadata": {},
   "outputs": [
    {
     "name": "stdout",
     "output_type": "stream",
     "text": [
      "[[0 0 0]\n",
      " [2 4 3]\n",
      " [3 4 6]]\n",
      "-------------\n",
      "False\n",
      "[False False False]\n",
      "[ True False False]\n"
     ]
    }
   ],
   "source": [
    "from numpy import *\n",
    "\n",
    "a = random.randint(0, 10, (3, 3))\n",
    "\n",
    "print(a)\n",
    "print('-------------')\n",
    "\n",
    "print(all(a<3))\n",
    "print(all(a<3, axis=0))\n",
    "print(all(a<3, axis=1))"
   ]
  },
  {
   "attachments": {},
   "cell_type": "markdown",
   "metadata": {},
   "source": [
    "<span style=\"color:#41bc66\">**Filter matrix depends on condition**</span>"
   ]
  },
  {
   "cell_type": "code",
   "execution_count": 42,
   "metadata": {},
   "outputs": [
    {
     "name": "stdout",
     "output_type": "stream",
     "text": [
      "[[17 11 13]\n",
      " [11  8  5]\n",
      " [14 16 13]]\n",
      "-------------\n",
      "[[ True  True  True]\n",
      " [ True False False]\n",
      " [ True  True  True]]\n",
      "-------------\n",
      "[17 11 13 11 14 16 13]\n",
      "-------------\n",
      "[8 5]\n",
      "-------------\n"
     ]
    }
   ],
   "source": [
    "from numpy import *\n",
    "\n",
    "a = random.randint(5, 20, size=9).reshape(3, 3)\n",
    "\n",
    "b = a>10                #matrix of True or False that is the answer of the condation\n",
    "c = a[b]                #filter a with the condation\n",
    "d = a[a<10]\n",
    "\n",
    "print(a)\n",
    "print('-------------')\n",
    "print(b)\n",
    "print('-------------')\n",
    "print(c)\n",
    "print('-------------')\n",
    "print(d)\n",
    "print('-------------')"
   ]
  },
  {
   "attachments": {},
   "cell_type": "markdown",
   "metadata": {},
   "source": [
    "<span style=\"color:#41bc66\">**Compare Matrices**</span>\n",
    "- using method `isclose(matrix1, matrix2, rtol=tolerance)` and return matrix of `True` or `False`"
   ]
  },
  {
   "cell_type": "code",
   "execution_count": 43,
   "metadata": {},
   "outputs": [
    {
     "name": "stdout",
     "output_type": "stream",
     "text": [
      "[[ True  True  True]\n",
      " [ True  True  True]\n",
      " [ True  True  True]]\n",
      "[[ True False False]\n",
      " [False False False]\n",
      " [False False False]]\n"
     ]
    }
   ],
   "source": [
    "from numpy import *\n",
    "\n",
    "a = arange(9).reshape(3, 3)\n",
    "b = arange(9).reshape(3, 3)\n",
    "\n",
    "c = 2*b\n",
    "\n",
    "print(isclose(a, b, rtol=0.1))\n",
    "print(isclose(a, c, rtol=0.1))"
   ]
  },
  {
   "attachments": {},
   "cell_type": "markdown",
   "metadata": {},
   "source": [
    "<span style=\"color:#41bc66\">**Multiply constant**</span>\n",
    "- we can use `muliply(matrix, constant, out=outputMatrix)` or we can use directly `*` operator"
   ]
  },
  {
   "cell_type": "code",
   "execution_count": 45,
   "metadata": {},
   "outputs": [
    {
     "name": "stdout",
     "output_type": "stream",
     "text": [
      "[ 0. 10. 20. 30. 40.]\n",
      "[ 0 10 20 30 40]\n"
     ]
    }
   ],
   "source": [
    "from numpy import *\n",
    "\n",
    "a = arange(5)\n",
    "b = empty(5)\n",
    "\n",
    "multiply(a, 10, out=b)\n",
    "\n",
    "c = a * 10\n",
    "print(b)\n",
    "print(c)"
   ]
  },
  {
   "attachments": {},
   "cell_type": "markdown",
   "metadata": {},
   "source": [
    "<span style=\"color:#41bc66\">**power**</span>\n",
    "- we can use `power(matrix, exponent, out=outputMatrix)` or we can use directly `**`operator"
   ]
  },
  {
   "cell_type": "code",
   "execution_count": 46,
   "metadata": {},
   "outputs": [
    {
     "name": "stdout",
     "output_type": "stream",
     "text": [
      "[  0.   1.  16.  81. 256.]\n",
      "[  0   1  16  81 256]\n"
     ]
    }
   ],
   "source": [
    "from numpy import *\n",
    "\n",
    "a = arange(5)\n",
    "b = empty(5)\n",
    "\n",
    "power(a, 4, out=b)\n",
    "\n",
    "c = a**4\n",
    "\n",
    "print(b)\n",
    "print(c)"
   ]
  },
  {
   "attachments": {},
   "cell_type": "markdown",
   "metadata": {},
   "source": [
    "<span style=\"color:#41bc66\">**reduce**</span>\n",
    "- it means array dimension by one, by applaying another function like `add` or `multiply` or other functions"
   ]
  },
  {
   "cell_type": "code",
   "execution_count": 54,
   "metadata": {},
   "outputs": [
    {
     "name": "stdout",
     "output_type": "stream",
     "text": [
      "36\n",
      "0\n",
      "-------------\n",
      "[[0 1 2]\n",
      " [3 4 5]\n",
      " [6 7 8]]\n",
      "-------------\n",
      "[ 9 12 15]\n",
      "[ 0 28 80]\n",
      "-------------\n"
     ]
    }
   ],
   "source": [
    "from numpy import *\n",
    "\n",
    "a = arange(9)\n",
    "\n",
    "print(add.reduce(a))                                #return just one value it's the sum of all elements in array\n",
    "print(multiply.reduce(a))                           #return just one value it's the multiplication answer of all elements in array\n",
    "print('-------------')\n",
    "\n",
    "a = a.reshape(3, 3)                                 #now a is matrix of 3x3\n",
    "print(a)\n",
    "print('-------------')\n",
    "print(add.reduce(a))                                #return array of summation of each column                  \n",
    "print(multiply.reduce(a))                           #return array of multiplication of each column\n",
    "print('-------------')"
   ]
  },
  {
   "attachments": {},
   "cell_type": "markdown",
   "metadata": {},
   "source": [
    "<span style=\"color:#41bc66\">**Accumulate**</span>\n",
    "- Accumulate the result of applying the operator to all elements"
   ]
  },
  {
   "cell_type": "code",
   "execution_count": 55,
   "metadata": {},
   "outputs": [
    {
     "name": "stdout",
     "output_type": "stream",
     "text": [
      "[ 0  1  3  6 10 15 21 28 36]\n",
      "[0 0 0 0 0 0 0 0 0]\n",
      "[[ 0  1  2]\n",
      " [ 3  5  7]\n",
      " [ 9 12 15]]\n",
      "[[ 0  1  2]\n",
      " [ 0  4 10]\n",
      " [ 0 28 80]]\n"
     ]
    }
   ],
   "source": [
    "from numpy import *\n",
    "\n",
    "a = arange(9)\n",
    "\n",
    "print(add.accumulate(a))\n",
    "print(multiply.accumulate(a))\n",
    "\n",
    "a = a.reshape(3, 3)\n",
    "print(add.accumulate(a))\n",
    "print(multiply.accumulate(a))"
   ]
  },
  {
   "attachments": {},
   "cell_type": "markdown",
   "metadata": {},
   "source": [
    "<span style=\"color:#41bc66\">**Outer**</span>\n",
    "- Compute the outer product of two vectors.\n",
    "\n",
    "Given two vectors, a = [a0, a1, ..., aM] and b = [b0, b1, ..., bN], the outer product [1] is:\n",
    "```python\n",
    "[[a0*b0  a0*b1 ... a0*bN ]\n",
    "[a1*b0    .\n",
    "[ ...          .\n",
    "[aM*b0            aM*bN ]]\n",
    "```"
   ]
  },
  {
   "cell_type": "code",
   "execution_count": 2,
   "metadata": {},
   "outputs": [
    {
     "name": "stdout",
     "output_type": "stream",
     "text": [
      "[[2 3 4 5]\n",
      " [3 4 5 6]\n",
      " [4 5 6 7]\n",
      " [5 6 7 8]]\n",
      "-------------\n",
      "[[ 1  2  3  4]\n",
      " [ 2  4  6  8]\n",
      " [ 3  6  9 12]\n",
      " [ 4  8 12 16]]\n",
      "-------------\n"
     ]
    }
   ],
   "source": [
    "from numpy import *\n",
    "\n",
    "a = arange(1, 5)\n",
    "\n",
    "print(add.outer(a, a))\n",
    "print('-------------')\n",
    "print(multiply.outer(a, a))\n",
    "print('-------------')"
   ]
  },
  {
   "attachments": {},
   "cell_type": "markdown",
   "metadata": {},
   "source": [
    "<span style=\"color:#41bc66\">**Size & Dimensions**</span>\n",
    "\n",
    "- To know know size or dimensions we can use:\n",
    "    - `len()`: to know size of 1D Array or first dimension of multidimension array\n",
    "    - `size()`: get number of elements in array (don't care about dimensions)\n",
    "    - `shape()`: return tuple of dimensions\n",
    "    - `ndim()`: return number of dimensions"
   ]
  },
  {
   "cell_type": "code",
   "execution_count": 5,
   "metadata": {},
   "outputs": [
    {
     "name": "stdout",
     "output_type": "stream",
     "text": [
      "len: 9\n",
      "size: 9\n",
      "ndim: 1\n",
      "shape: (9,)\n",
      "-------------\n",
      "len: 3\n",
      "size: 9\n",
      "ndim: 2\n",
      "shape: (3, 3)\n",
      "-------------\n"
     ]
    }
   ],
   "source": [
    "from numpy import *\n",
    "\n",
    "a = arange(9)\n",
    "\n",
    "print(f'len: {len(a)}')\n",
    "print(f'size: {a.size}')\n",
    "print(f'ndim: {a.ndim}')\n",
    "print(f'shape: {a.shape}')\n",
    "print('-------------')\n",
    "\n",
    "a = a.reshape(3, 3)\n",
    "print(f'len: {len(a)}')\n",
    "print(f'size: {a.size}')\n",
    "print(f'ndim: {a.ndim}')\n",
    "print(f'shape: {a.shape}')\n",
    "print('-------------')"
   ]
  },
  {
   "attachments": {},
   "cell_type": "markdown",
   "metadata": {},
   "source": [
    "<span style=\"color:#41bc66\">**dtype**</span>\n",
    "- we can use `dtype` to return type of element in the array"
   ]
  },
  {
   "cell_type": "code",
   "execution_count": 6,
   "metadata": {},
   "outputs": [
    {
     "name": "stdout",
     "output_type": "stream",
     "text": [
      "int32\n",
      "float64\n",
      "<U2\n"
     ]
    }
   ],
   "source": [
    "from numpy import *\n",
    "\n",
    "a = array([1, 2, 3, 4])\n",
    "b = array([1.2, 3, 3.5])\n",
    "c = array(['a', 'cd'])\n",
    "\n",
    "print(a.dtype)\n",
    "print(b.dtype)\n",
    "print(c.dtype)"
   ]
  },
  {
   "attachments": {},
   "cell_type": "markdown",
   "metadata": {},
   "source": [
    "<span style=\"color:#41bc66\">**format**</span>\n",
    "- do the same thing of reshape"
   ]
  },
  {
   "cell_type": "code",
   "execution_count": 3,
   "metadata": {},
   "outputs": [
    {
     "name": "stdout",
     "output_type": "stream",
     "text": [
      "[[1 2]\n",
      " [3 4]]\n",
      "------------------\n",
      "[[1 2 3]\n",
      " [4 5 6]]\n",
      "------------------\n"
     ]
    }
   ],
   "source": [
    "from numpy import *\n",
    "\n",
    "a = matrix('{} {} ; {} {}'.format(1, 2, 3, 4))\n",
    "b = matrix('{} {} {}; {} {} {}'.format(1, 2, 3, 4, 5, 6))\n",
    "\n",
    "print(a)\n",
    "print('------------------')\n",
    "print(b)\n",
    "print('------------------')"
   ]
  },
  {
   "attachments": {},
   "cell_type": "markdown",
   "metadata": {},
   "source": [
    "<span style=\"color:#41bc66\">**trace**</span>\n",
    "- to get summation of main diagonal"
   ]
  },
  {
   "cell_type": "code",
   "execution_count": 4,
   "metadata": {},
   "outputs": [
    {
     "name": "stdout",
     "output_type": "stream",
     "text": [
      "[0 1 2 3 4 5 6 7 8]\n",
      "------------------\n",
      "[[0 1 2]\n",
      " [3 4 5]\n",
      " [6 7 8]]\n",
      "------------------\n",
      "12\n",
      "------------------\n"
     ]
    }
   ],
   "source": [
    "from numpy import *\n",
    "\n",
    "a = arange(9)\n",
    "b = a.reshape(3, 3)\n",
    "c = trace(b)\n",
    "\n",
    "print(a)\n",
    "print('------------------')\n",
    "print(b)\n",
    "print('------------------')\n",
    "print(c)\n",
    "print('------------------')"
   ]
  },
  {
   "attachments": {},
   "cell_type": "markdown",
   "metadata": {},
   "source": [
    "<span style=\"color:#41bc66\">**det, eig**</span>\n",
    "- `linalg.det()`: to get determinant of matrix\n",
    "- `linalg.eig()`: to get eigen values of matrix \n",
    "\n",
    "eigen values calculated from this equeation\n",
    "$\\left| A - \\lambda I\\right| = 0$"
   ]
  },
  {
   "cell_type": "code",
   "execution_count": 13,
   "metadata": {},
   "outputs": [
    {
     "name": "stdout",
     "output_type": "stream",
     "text": [
      "[0 1 2 3 4 5 6 7 8]\n",
      "------------------\n",
      "[[0 1 2]\n",
      " [3 4 5]\n",
      " [6 7 8]]\n",
      "------------------\n",
      "0.0\n",
      "------------------\n",
      "(array([ 1.33484692e+01, -1.34846923e+00, -2.48477279e-16]), array([[ 0.16476382,  0.79969966,  0.40824829],\n",
      "       [ 0.50577448,  0.10420579, -0.81649658],\n",
      "       [ 0.84678513, -0.59128809,  0.40824829]]))\n",
      "------------------\n"
     ]
    }
   ],
   "source": [
    "from numpy import *\n",
    "\n",
    "a = arange(9)\n",
    "b = a.reshape(3, 3)\n",
    "c = linalg.det(b)\n",
    "d = linalg.eig(b)\n",
    "\n",
    "print(a)\n",
    "print('------------------')\n",
    "print(b)\n",
    "print('------------------')\n",
    "print(c)\n",
    "print('------------------')\n",
    "print(d)\n",
    "print('------------------')"
   ]
  },
  {
   "attachments": {},
   "cell_type": "markdown",
   "metadata": {},
   "source": [
    "<span style=\"color:#41bc66\">**slicing**</span>\n",
    "- the same as in `strings` and `lists`"
   ]
  },
  {
   "cell_type": "code",
   "execution_count": 18,
   "metadata": {},
   "outputs": [
    {
     "name": "stdout",
     "output_type": "stream",
     "text": [
      "[0 1 2 3 4 5 6 7 8 9]\n",
      "3\n",
      "[3 4 5 6 7 8]\n",
      "[3 5 7]\n",
      "9\n",
      "7\n"
     ]
    }
   ],
   "source": [
    "from numpy import *\n",
    "\n",
    "a = arange(10)\n",
    "\n",
    "print(a)\n",
    "print(a[3])\n",
    "print(a[3:9])\n",
    "print(a[3:9:2])\n",
    "print(a[-1])\n",
    "print(a[-3])"
   ]
  },
  {
   "cell_type": "code",
   "execution_count": 36,
   "metadata": {},
   "outputs": [
    {
     "name": "stdout",
     "output_type": "stream",
     "text": [
      "[[ 0  1  2  3  4  5]\n",
      " [ 6  7  8  9 10 11]\n",
      " [12 13 14 15 16 17]\n",
      " [18 19 20 21 22 23]\n",
      " [24 25 26 27 28 29]\n",
      " [30 31 32 33 34 35]]\n",
      "------------------\n",
      "[18 19 20 21 22 23]\n",
      "------------------\n",
      "[[ 6  7  8  9 10 11]\n",
      " [12 13 14 15 16 17]]\n",
      "------------------\n",
      "[[18 19 20 21 22 23]\n",
      " [30 31 32 33 34 35]]\n",
      "------------------\n",
      "[30 31 32 33 34 35]\n",
      "------------------\n",
      "[[ 6  7  8  9 10 11]\n",
      " [12 13 14 15 16 17]]\n",
      "------------------\n",
      "[[ 7  8]\n",
      " [13 14]]\n",
      "------------------\n",
      "[[ 7  8  9 10 11]\n",
      " [13 14 15 16 17]]\n",
      "------------------\n",
      "[[ 9 10 11]\n",
      " [15 16 17]]\n",
      "------------------\n",
      "[30 31 32]\n",
      "------------------\n",
      "[30 33]\n",
      "------------------\n"
     ]
    }
   ],
   "source": [
    "from numpy import *\n",
    "\n",
    "a = arange(36).reshape(6, 6)\n",
    "\n",
    "print(a)            #printing a\n",
    "print('------------------')\n",
    "print(a[3])     #printing 4th row\n",
    "print('------------------')\n",
    "print(a[1:3])   #printing 2nd & 3rd row\n",
    "print('------------------')\n",
    "print(a[3:9:2])     #printing rows 4, 6, 8 but matrix has 6 rows only\n",
    "print('------------------')\n",
    "print(a[-1])            #printing last row\n",
    "print('------------------')\n",
    "print(a[1:3, :])            #printing element in 2nd, 3rd row\n",
    "print('------------------')\n",
    "print(a[1:3, 1:3])          #printing elements in 2nd, 3rd row and columns 2nd, 3rd\n",
    "print('------------------')\n",
    "print(a[1:3, 1:])\n",
    "print('------------------')\n",
    "print(a[1:3, 3:])\n",
    "print('------------------')\n",
    "print(a[-1, :3])\n",
    "print('------------------')\n",
    "print(a[-1, ::3])\n",
    "print('------------------')"
   ]
  },
  {
   "cell_type": "code",
   "execution_count": 63,
   "metadata": {},
   "outputs": [
    {
     "name": "stdout",
     "output_type": "stream",
     "text": [
      "[[ 0  1  2  3  4  5]\n",
      " [ 6  7  8  9 10 11]\n",
      " [12 13 14 15 16 17]\n",
      " [18 19 20 21 22 23]\n",
      " [24 25 26 27 28 29]\n",
      " [30 31 32 33 34 35]]\n",
      "------------------\n",
      "[[ 0  3]\n",
      " [12 15]\n",
      " [24 27]]\n",
      "------------------\n",
      "[[35 34 33 32 31 30]\n",
      " [29 28 27 26 25 24]\n",
      " [23 22 21 20 19 18]\n",
      " [17 16 15 14 13 12]\n",
      " [11 10  9  8  7  6]\n",
      " [ 5  4  3  2  1  0]]\n",
      "------------------\n",
      "[[35 34]\n",
      " [29 28]\n",
      " [23 22]]\n",
      "------------------\n",
      "[[15]\n",
      " [27]]\n",
      "------------------\n",
      "[[35]]\n"
     ]
    }
   ],
   "source": [
    "from numpy import *\n",
    "\n",
    "a = arange(36).reshape(6, 6)\n",
    "\n",
    "print(a)\n",
    "print('------------------')\n",
    "print(a[::2, ::3])\n",
    "print('------------------')\n",
    "print(a[::-1, ::-1])\n",
    "print('------------------')\n",
    "print(a[:2:-1, :3:-1])\n",
    "print('------------------')\n",
    "print(a[2::2, 3::3])\n",
    "print('------------------')\n",
    "print(a[-1::, -1::])"
   ]
  },
  {
   "attachments": {},
   "cell_type": "markdown",
   "metadata": {},
   "source": [
    "💡Note:\n",
    "```python\n",
    "a = arrange(16).reshape(4, 4)\n",
    "b = a[:, 1:3]        #in this case b is a part of a so if we change a also b will be affect\n",
    "c = a[:, 1:3].copy()       # in this case c is indepentet copy so if we change a , c won't chang\n",
    "```"
   ]
  },
  {
   "attachments": {},
   "cell_type": "markdown",
   "metadata": {},
   "source": [
    "<span style=\"color:#41bc66\">**split**</span>"
   ]
  },
  {
   "cell_type": "code",
   "execution_count": 68,
   "metadata": {},
   "outputs": [
    {
     "name": "stdout",
     "output_type": "stream",
     "text": [
      "[11 22 33 44 55 66 77 88]\n",
      "------------------\n",
      "[11 22 33]\t[44 55 66]\t[77 88]\n",
      "------------------\n",
      "[11]\t[22 33 44 55]\t[66 77 88]\n",
      "------------------\n",
      "[11 22 33 44 55 66]\n",
      "[]\n",
      "[44 55 66 77 88]\n",
      "------------------\n",
      "[]\t[11 22 33]\t[44 55 66 77 88]\n",
      "------------------\n",
      "[11 22 33 44]\t[]\t[11 22 33 44 55 66 77 88]\n",
      "------------------\n"
     ]
    }
   ],
   "source": [
    "from numpy import *\n",
    "\n",
    "x = arange(1,9) * 11\n",
    "\n",
    "print(x)\n",
    "print('------------------')\n",
    "\n",
    "x1, x2, x3 = split(x, (3, 6))\n",
    "print(f'{x1}\\t{x2}\\t{x3}')\n",
    "print('------------------')\n",
    "\n",
    "\n",
    "x1, x2, x3 = split(x, (1, 5))\n",
    "print(f'{x1}\\t{x2}\\t{x3}')\n",
    "print('------------------')\n",
    "\n",
    "x1, x2, x3 = split(x, (6, 3))\n",
    "print(f'{x1}\\n{x2}\\n{x3}')\n",
    "print('------------------')\n",
    "\n",
    "x1, x2, x3 = split(x, (0, 3))\n",
    "print(f'{x1}\\t{x2}\\t{x3}')\n",
    "print('------------------')\n",
    "\n",
    "\n",
    "x1, x2, x3 = split(x, (4, 0))\n",
    "print(f'{x1}\\t{x2}\\t{x3}')\n",
    "print('------------------')"
   ]
  },
  {
   "attachments": {},
   "cell_type": "markdown",
   "metadata": {},
   "source": [
    "<span style=\"color:#41bc66\">**get Element**</span>"
   ]
  },
  {
   "cell_type": "code",
   "execution_count": 69,
   "metadata": {},
   "outputs": [
    {
     "name": "stdout",
     "output_type": "stream",
     "text": [
      "7\n",
      "7\n"
     ]
    }
   ],
   "source": [
    "from numpy import *\n",
    "\n",
    "a  =arange(9).reshape(3, 3)\n",
    "\n",
    "print(f'{a[2][1]}')\n",
    "print(f'{a[2, 1]}')"
   ]
  },
  {
   "attachments": {},
   "cell_type": "markdown",
   "metadata": {},
   "source": [
    "<span style=\"color:#41bc66\">**merge**</span>\n",
    "- we can use\n",
    "    - `vstack()`: to merge 2 matrices vertically but must have the same number of columns\n",
    "    - `hstack()`: to merge 2 matrices horizontally but must have the same number of rows "
   ]
  },
  {
   "cell_type": "code",
   "execution_count": 75,
   "metadata": {},
   "outputs": [
    {
     "name": "stdout",
     "output_type": "stream",
     "text": [
      "[[0 1]\n",
      " [2 3]\n",
      " [0 1]\n",
      " [2 3]\n",
      " [4 5]]\n",
      "------------------\n",
      "[[0 1 0 1 2]\n",
      " [2 3 3 4 5]]\n",
      "------------------\n"
     ]
    }
   ],
   "source": [
    "from numpy import *\n",
    "\n",
    "a = arange(4).reshape(2, 2)\n",
    "b = arange(6).reshape(3, 2)\n",
    "c = b.reshape(2, 3)\n",
    "\n",
    "v = vstack((a, b))\n",
    "h = hstack((a, c))\n",
    "\n",
    "print(v)\n",
    "print('------------------')\n",
    "print(h)\n",
    "print('------------------')"
   ]
  },
  {
   "attachments": {},
   "cell_type": "markdown",
   "metadata": {},
   "source": [
    "<span style=\"color:#41bc66\">**concatenate**</span>\n",
    "- when we set `axis=0` doing the same function of `vstack()`\n",
    "- when we set `axis=1` doing the same function of `hstack()`"
   ]
  },
  {
   "cell_type": "code",
   "execution_count": 78,
   "metadata": {},
   "outputs": [
    {
     "name": "stdout",
     "output_type": "stream",
     "text": [
      "[[ 6 19 11]\n",
      " [14 17 13]\n",
      " [ 6 12  5]]\n",
      "------------------\n",
      "[[ 6 19 11]\n",
      " [14 17 13]\n",
      " [ 6 12  5]\n",
      " [ 8 10  7]\n",
      " [12  6  5]]\n",
      "------------------\n",
      "[[ 6 19 11  8 10]\n",
      " [14 17 13  7 12]\n",
      " [ 6 12  5  6  5]]\n",
      "------------------\n"
     ]
    }
   ],
   "source": [
    "a = random.randint(5, 20, size=9).reshape(3, 3)\n",
    "b = random.randint(5, 20, size=6).reshape(2, 3)\n",
    "c = b.reshape(3, 2)\n",
    "\n",
    "print(a)\n",
    "print('------------------')\n",
    "print(concatenate([a, b], axis=0))\n",
    "print('------------------')\n",
    "print(concatenate([a, c], axis=1))\n",
    "print('------------------')"
   ]
  },
  {
   "attachments": {},
   "cell_type": "markdown",
   "metadata": {},
   "source": [
    "<span style=\"color:#41bc66\">**max & min**</span>\n",
    "- `max()`: get max value in matrix\n",
    "- `min()`: get min value in matrix\n",
    "- `argmax()`: get position of max in matrix\n",
    "- `argmin()`: get position of min in matrix"
   ]
  },
  {
   "cell_type": "code",
   "execution_count": 83,
   "metadata": {},
   "outputs": [
    {
     "name": "stdout",
     "output_type": "stream",
     "text": [
      "max: 17\n",
      "------------------\n",
      "min: 5\n",
      "------------------\n",
      "max pos: 1\n",
      "------------------\n",
      "min pos: 7\n",
      "------------------\n"
     ]
    }
   ],
   "source": [
    "import numpy as np\n",
    "\n",
    "a = np.random.randint(5, 20, size=9).reshape(3, 3)\n",
    "\n",
    "\n",
    "print(f'max: {np.max(a)}')\n",
    "print('------------------')\n",
    "print(f'min: {np.min(a)}')\n",
    "print('------------------')\n",
    "print(f'max pos: {np.argmax(a)}')\n",
    "print('------------------')\n",
    "print(f'min pos: {np.argmin(a)}')\n",
    "print('------------------')"
   ]
  },
  {
   "attachments": {},
   "cell_type": "markdown",
   "metadata": {},
   "source": [
    "<span style=\"color:#41bc66\">**Variance & Covariance**</span>"
   ]
  },
  {
   "cell_type": "code",
   "execution_count": 84,
   "metadata": {},
   "outputs": [
    {
     "name": "stdout",
     "output_type": "stream",
     "text": [
      "[[15  8 14]\n",
      " [18  5  5]\n",
      " [ 9  9  6]]\n",
      "------------------\n",
      "19.65432098765432\n",
      "------------------\n",
      "[[14.33333333 17.33333333 -2.5       ]\n",
      " [17.33333333 56.33333333  6.5       ]\n",
      " [-2.5         6.5         3.        ]]\n",
      "------------------\n"
     ]
    }
   ],
   "source": [
    "from numpy import *\n",
    "\n",
    "a = random.randint(5, 20, size=9).reshape(3, 3)\n",
    "\n",
    "b = var(a)\n",
    "c = cov(a)\n",
    "\n",
    "print(a)\n",
    "print('------------------')\n",
    "print(b)\n",
    "print('------------------')\n",
    "print(c)\n",
    "print('------------------')"
   ]
  },
  {
   "attachments": {},
   "cell_type": "markdown",
   "metadata": {},
   "source": [
    "<span style=\"color:#41bc66\">**Mathematical Operations on Matrices**</span>"
   ]
  },
  {
   "cell_type": "code",
   "execution_count": 95,
   "metadata": {},
   "outputs": [
    {
     "name": "stdout",
     "output_type": "stream",
     "text": [
      "[[12 19 16]\n",
      " [17 11  9]\n",
      " [19 17 16]]\n",
      "--------------------\n",
      "[[18 12  8]\n",
      " [ 7 12 18]\n",
      " [ 6 17 11]]\n",
      "--------------------\n",
      "[[30 31 24]\n",
      " [24 23 27]\n",
      " [25 34 27]]\n",
      "--------------------\n",
      "[[-6  7  8]\n",
      " [10 -1 -9]\n",
      " [13  0  5]]\n",
      "--------------------\n",
      "[[216 228 128]\n",
      " [119 132 162]\n",
      " [114 289 176]]\n",
      "--------------------\n",
      "[[144 361 256]\n",
      " [289 121  81]\n",
      " [361 289 256]]\n",
      "--------------------\n",
      "[[2.48490665 2.94443898 2.77258872]\n",
      " [2.83321334 2.39789527 2.19722458]\n",
      " [2.94443898 2.83321334 2.77258872]]\n",
      "--------------------\n",
      "[[445 644 614]\n",
      " [437 489 433]\n",
      " [557 704 634]]\n",
      "--------------------\n"
     ]
    }
   ],
   "source": [
    "from numpy import *\n",
    "\n",
    "a = random.randint(5, 20, size= 9).reshape(3, 3)\n",
    "b = random.randint(5, 20, size=9).reshape(3, 3)\n",
    "\n",
    "print(a)\n",
    "print('--------------------')\n",
    "print(b)\n",
    "print('--------------------')\n",
    "print(a+b)\n",
    "print('--------------------')\n",
    "print(a-b)\n",
    "print('--------------------')\n",
    "print(a*b)\n",
    "print('--------------------')\n",
    "print(a**2)\n",
    "print('--------------------')\n",
    "print(log(a))\n",
    "print('--------------------')\n",
    "print(dot(a, b))            #product of 2 matrices\n",
    "print('--------------------')"
   ]
  }
 ],
 "metadata": {
  "kernelspec": {
   "display_name": "Python 3.11.0 64-bit",
   "language": "python",
   "name": "python3"
  },
  "language_info": {
   "codemirror_mode": {
    "name": "ipython",
    "version": 3
   },
   "file_extension": ".py",
   "mimetype": "text/x-python",
   "name": "python",
   "nbconvert_exporter": "python",
   "pygments_lexer": "ipython3",
   "version": "3.11.0"
  },
  "orig_nbformat": 4,
  "vscode": {
   "interpreter": {
    "hash": "ef4901b8939f495b89bc3afa7c816cb72403b8661596d91e2148a27d3746114a"
   }
  }
 },
 "nbformat": 4,
 "nbformat_minor": 2
}
