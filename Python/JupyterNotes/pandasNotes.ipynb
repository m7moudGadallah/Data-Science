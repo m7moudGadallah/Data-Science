{
 "cells": [
  {
   "cell_type": "markdown",
   "metadata": {},
   "source": [
    "# Pandas"
   ]
  },
  {
   "cell_type": "markdown",
   "metadata": {},
   "source": [
    "- is Python library used to analyze data\n",
    "- has functions for analyzing, cleaning, exploring, and manipulating data\n",
    "- `Pandas` refer to \"Python Data Analysis\""
   ]
  },
  {
   "cell_type": "markdown",
   "metadata": {},
   "source": [
    "***Why Pandas?***\n",
    "\n",
    "- allows us to analyze big data and make conclusions based on statistical theories.\n",
    "- can clean messy data sets, and make them readable and relevant."
   ]
  },
  {
   "cell_type": "markdown",
   "metadata": {},
   "source": [
    "## <span style=\"color: #cccc32\">Series</span>"
   ]
  },
  {
   "cell_type": "markdown",
   "metadata": {},
   "source": [
    "- is like a column in a table.\n",
    "- It is a one-dimensional array holding data of any type."
   ]
  },
  {
   "cell_type": "markdown",
   "metadata": {},
   "source": [
    "***Labels (index)***\n",
    "- If nothing else is specified, the values are labeled with their index number. First value has index 0, second value has index 1 etc."
   ]
  },
  {
   "cell_type": "code",
   "execution_count": 56,
   "metadata": {},
   "outputs": [
    {
     "name": "stdout",
     "output_type": "stream",
     "text": [
      "0    0.25\n",
      "1    0.50\n",
      "2    0.75\n",
      "3    1.00\n",
      "dtype: float64\n",
      "---------------------\n",
      "<class 'pandas.core.series.Series'>\n",
      "---------------------\n",
      "[0.25 0.5  0.75 1.  ]\n",
      "---------------------\n",
      "RangeIndex(start=0, stop=4, step=1)\n",
      "---------------------\n",
      "<bound method Series.keys of 0    0.25\n",
      "1    0.50\n",
      "2    0.75\n",
      "3    1.00\n",
      "dtype: float64>\n",
      "---------------------\n"
     ]
    }
   ],
   "source": [
    "import pandas as pd\n",
    "\n",
    "data = pd.Series([0.25, 0.5, 0.75, 1.0])\n",
    "\n",
    "print(data)\n",
    "print('---------------------')\n",
    "print(type(data))\n",
    "print('---------------------')\n",
    "print(data.values)\n",
    "print('---------------------')\n",
    "print(data.index)\n",
    "print('---------------------')\n",
    "print(data.keys)\n",
    "print('---------------------')"
   ]
  },
  {
   "cell_type": "markdown",
   "metadata": {},
   "source": [
    "<span style=\"color:#41bc66\">**describe()**</span>"
   ]
  },
  {
   "cell_type": "markdown",
   "metadata": {},
   "source": [
    "- method returns description of the data in the DataFrame or Series.\n",
    "\n",
    "```python\n",
    "count - The number of not-empty values.\n",
    "mean - The average (mean) value.\n",
    "std - The standard deviation.\n",
    "min - the minimum value.\n",
    "25% - The 25% percentile*.\n",
    "50% - The 50% percentile*.\n",
    "75% - The 75% percentile*.\n",
    "max - the maximum value.\n",
    "```"
   ]
  },
  {
   "cell_type": "code",
   "execution_count": 7,
   "metadata": {},
   "outputs": [
    {
     "name": "stdout",
     "output_type": "stream",
     "text": [
      "<class 'pandas.core.series.Series'>\n",
      "---------------------\n",
      "count    11.000000\n",
      "mean      5.363636\n",
      "std       2.292280\n",
      "min       2.000000\n",
      "25%       3.500000\n",
      "50%       5.000000\n",
      "75%       7.000000\n",
      "max       9.000000\n",
      "dtype: float64\n",
      "---------------------\n"
     ]
    }
   ],
   "source": [
    "import pandas as pd\n",
    "\n",
    "data_list = [3, 6, 9, 8, 5, 4, 2, 6, 3, 5, 8]\n",
    "\n",
    "data = pd.Series(data_list)\n",
    "\n",
    "data_description = data.describe()\n",
    "\n",
    "print(type(data_description))\n",
    "print('---------------------')\n",
    "print(data_description)\n",
    "print('---------------------')"
   ]
  },
  {
   "cell_type": "markdown",
   "metadata": {},
   "source": [
    "<span style=\"color:#41bc66\">**agg()**</span>"
   ]
  },
  {
   "cell_type": "markdown",
   "metadata": {},
   "source": [
    "- the same as describe but it doesn't show all description just the information passed for it"
   ]
  },
  {
   "cell_type": "code",
   "execution_count": 9,
   "metadata": {},
   "outputs": [
    {
     "name": "stdout",
     "output_type": "stream",
     "text": [
      "min     2.000000\n",
      "max     9.000000\n",
      "mean    5.363636\n",
      "std     2.292280\n",
      "dtype: float64\n",
      "-------------------------\n"
     ]
    }
   ],
   "source": [
    "import pandas as pd\n",
    "\n",
    "data_list = [3, 6, 9, 8, 5, 4, 2, 6, 3, 5, 8]\n",
    "\n",
    "data = pd.Series(data_list)\n",
    "\n",
    "data_description = data.agg(['min', 'max', 'mean', 'std'])\n",
    "\n",
    "print(data_description)\n",
    "print('-------------------------')"
   ]
  },
  {
   "cell_type": "markdown",
   "metadata": {},
   "source": [
    "<span style=\"color:#41bc66\">**Accessing & Slicing**</span>"
   ]
  },
  {
   "cell_type": "markdown",
   "metadata": {},
   "source": [
    "- here we can access data with index and also slice it as `lists`"
   ]
  },
  {
   "cell_type": "code",
   "execution_count": 10,
   "metadata": {},
   "outputs": [
    {
     "name": "stdout",
     "output_type": "stream",
     "text": [
      "1    6\n",
      "2    9\n",
      "dtype: int64\n",
      "----------------------\n",
      "1    6\n",
      "3    8\n",
      "5    4\n",
      "dtype: int64\n",
      "----------------------\n",
      "4\n",
      "----------------------\n"
     ]
    }
   ],
   "source": [
    "import pandas as pd\n",
    "\n",
    "data_list = [3, 6, 9, 8, 5, 4, 2, 6, 3, 5, 8]\n",
    "\n",
    "print(data[1:3])\n",
    "print('----------------------')\n",
    "print(data[1:6:2])\n",
    "print('----------------------')\n",
    "print(data[5])\n",
    "print('----------------------')"
   ]
  },
  {
   "cell_type": "markdown",
   "metadata": {},
   "source": [
    "<span style=\"color:#41bc66\">**create index \"labels\"**</span>"
   ]
  },
  {
   "cell_type": "markdown",
   "metadata": {},
   "source": [
    "- we can set indexs as we want not just use default indices"
   ]
  },
  {
   "cell_type": "code",
   "execution_count": 14,
   "metadata": {},
   "outputs": [
    {
     "name": "stdout",
     "output_type": "stream",
     "text": [
      "a    3\n",
      "b    6\n",
      "c    9\n",
      "d    8\n",
      "dtype: int64\n",
      "------------------------\n",
      "a    3\n",
      "b    6\n",
      "c    9\n",
      "d    8\n",
      "dtype: int64\n",
      "------------------------\n",
      "a    3\n",
      "b    6\n",
      "c    9\n",
      "d    8\n",
      "dtype: int64\n",
      "------------------------\n",
      "a    3\n",
      "b    6\n",
      "c    9\n",
      "d    8\n",
      "dtype: int64\n",
      "------------------------\n"
     ]
    }
   ],
   "source": [
    "import pandas as pd\n",
    "\n",
    "data_list = [3, 6, 9, 8]\n",
    "indexs = ['a', 'b', 'c', 'd']\n",
    "new_data_list = dict(zip(indexs, data_list))\n",
    "\n",
    "data1 = pd.Series(data_list, index={'a':3, 'b':6, 'c':9, 'd':8})\n",
    "data2 = pd.Series(data_list, index=indexs) \n",
    "data3 = pd.Series(new_data_list)\n",
    "data4 = pd.Series({'a':3, 'b':6, 'c':9, 'd':8})\n",
    "\n",
    "print(data1)\n",
    "print('------------------------')\n",
    "print(data2)\n",
    "print('------------------------')\n",
    "print(data3)\n",
    "print('------------------------')\n",
    "print(data4)\n",
    "print('------------------------')"
   ]
  },
  {
   "cell_type": "markdown",
   "metadata": {},
   "source": [
    "<span style=\"color:#41bc66\">**Operators (`&, |, ^`)**</span>"
   ]
  },
  {
   "cell_type": "markdown",
   "metadata": {},
   "source": [
    "- we use them to filter data\n",
    "    - `&`: to get intersection between 2 lists\n",
    "    - `|`: union\n",
    "    - `^`: values not repeated in just one of lists and not in another"
   ]
  },
  {
   "cell_type": "code",
   "execution_count": 20,
   "metadata": {},
   "outputs": [
    {
     "name": "stdout",
     "output_type": "stream",
     "text": [
      "Int64Index([0, 1, 3, 5, 7, 9], dtype='int64')\n",
      "--------------------------\n",
      "Int64Index([2, 3, 5, 6, 9], dtype='int64')\n",
      "--------------------------\n",
      "Int64Index([3, 5, 9], dtype='int64')\n",
      "--------------------------\n",
      "Int64Index([0, 1, 2, 3, 5, 6, 7, 9], dtype='int64')\n",
      "--------------------------\n",
      "Int64Index([0, 1, 2, 6, 7], dtype='int64')\n",
      "--------------------------\n"
     ]
    },
    {
     "name": "stderr",
     "output_type": "stream",
     "text": [
      "/tmp/ipykernel_48679/734037960.py:10: FutureWarning: Index.__and__ operating as a set operation is deprecated, in the future this will be a logical operation matching Series.__and__.  Use index.intersection(other) instead.\n",
      "  print(a&b)              #intersection\n",
      "/tmp/ipykernel_48679/734037960.py:12: FutureWarning: Index.__or__ operating as a set operation is deprecated, in the future this will be a logical operation matching Series.__or__.  Use index.union(other) instead.\n",
      "  print(a|b)              #union\n",
      "/tmp/ipykernel_48679/734037960.py:14: FutureWarning: Index.__xor__ operating as a set operation is deprecated, in the future this will be a logical operation matching Series.__xor__.  Use index.symmetric_difference(other) instead.\n",
      "  print(a^b)      #means get numbers not repeated ('just in a or b not in both')\n"
     ]
    }
   ],
   "source": [
    "import pandas as pd\n",
    "\n",
    "a = pd.Index([0, 1, 3, 5, 7, 9])\n",
    "b = pd.Index([2, 3, 5, 6, 9])\n",
    "\n",
    "print(a)\n",
    "print('--------------------------')\n",
    "print(b)\n",
    "print('--------------------------')\n",
    "print(a&b)              #intersection\n",
    "print('--------------------------')\n",
    "print(a|b)              #union\n",
    "print('--------------------------')\n",
    "print(a^b)      #means get numbers not repeated ('just in a or b not in both')\n",
    "print('--------------------------')"
   ]
  },
  {
   "cell_type": "markdown",
   "metadata": {},
   "source": [
    "## <span style=\"color: #cccc32\">Plotting</span>"
   ]
  },
  {
   "cell_type": "markdown",
   "metadata": {},
   "source": [
    "<span style=\"color:#41bc66\">**plot()**</span>"
   ]
  },
  {
   "cell_type": "markdown",
   "metadata": {},
   "source": [
    "- uses to create diagrams.\n",
    "- We can use `Pyplot`, a submodule of the `Matplotlib` library to visualize the diagram on the screen."
   ]
  },
  {
   "cell_type": "markdown",
   "metadata": {},
   "source": [
    "`kind`\n",
    "- `line` : defualt\n",
    "- `pie`\n",
    "- `bar`, `barh`\n",
    "- `hist`\n",
    "- `box`\n",
    "- `kde`\n",
    "- `area`"
   ]
  },
  {
   "cell_type": "code",
   "execution_count": 24,
   "metadata": {},
   "outputs": [
    {
     "data": {
      "text/plain": [
       "<AxesSubplot:>"
      ]
     },
     "execution_count": 24,
     "metadata": {},
     "output_type": "execute_result"
    },
    {
     "data": {
      "image/png": "[encoded data removed]",
      "text/plain": [
       "<Figure size 640x480 with 1 Axes>"
      ]
     },
     "metadata": {},
     "output_type": "display_data"
    }
   ],
   "source": [
    "import pandas as pd\n",
    "\n",
    "data_list = [3, 6, 9, 8, 5, 4, 2, 6, 3, 5, 8]\n",
    "\n",
    "data = pd.Series(data_list)\n",
    "\n",
    "data.plot()\n",
    "#data.plot(kind='line')"
   ]
  },
  {
   "cell_type": "code",
   "execution_count": 25,
   "metadata": {},
   "outputs": [
    {
     "data": {
      "text/plain": [
       "<AxesSubplot:>"
      ]
     },
     "execution_count": 25,
     "metadata": {},
     "output_type": "execute_result"
    },
    {
     "data": {
      "image/png": "[encoded data removed]",
      "text/plain": [
       "<Figure size 640x480 with 1 Axes>"
      ]
     },
     "metadata": {},
     "output_type": "display_data"
    }
   ],
   "source": [
    "import pandas as pd\n",
    "\n",
    "data_list = [3, 6, 9, 8, 5, 4, 2, 6, 3, 5, 8]\n",
    "\n",
    "data = pd.Series(data_list)\n",
    "\n",
    "data.plot(kind='line')"
   ]
  },
  {
   "cell_type": "code",
   "execution_count": 26,
   "metadata": {},
   "outputs": [
    {
     "data": {
      "text/plain": [
       "<AxesSubplot:ylabel='None'>"
      ]
     },
     "execution_count": 26,
     "metadata": {},
     "output_type": "execute_result"
    },
    {
     "data": {
      "image/png": "[encoded data removed]",
      "text/plain": [
       "<Figure size 640x480 with 1 Axes>"
      ]
     },
     "metadata": {},
     "output_type": "display_data"
    }
   ],
   "source": [
    "import pandas as pd\n",
    "\n",
    "data_list = [3, 6, 9, 8, 5, 4, 2, 6, 3, 5, 8]\n",
    "\n",
    "data = pd.Series(data_list)\n",
    "\n",
    "data.plot(kind='pie')"
   ]
  },
  {
   "cell_type": "code",
   "execution_count": 28,
   "metadata": {},
   "outputs": [
    {
     "data": {
      "text/plain": [
       "<AxesSubplot:>"
      ]
     },
     "execution_count": 28,
     "metadata": {},
     "output_type": "execute_result"
    },
    {
     "data": {
      "image/png": "[encoded data removed]",
      "text/plain": [
       "<Figure size 640x480 with 1 Axes>"
      ]
     },
     "metadata": {},
     "output_type": "display_data"
    }
   ],
   "source": [
    "import pandas as pd\n",
    "\n",
    "data_list = [3, 6, 9, 8, 5, 4, 2, 6, 3, 5, 8]\n",
    "\n",
    "data = pd.Series(data_list)\n",
    "\n",
    "data.plot(kind='bar')"
   ]
  },
  {
   "cell_type": "code",
   "execution_count": 29,
   "metadata": {},
   "outputs": [
    {
     "data": {
      "text/plain": [
       "<AxesSubplot:>"
      ]
     },
     "execution_count": 29,
     "metadata": {},
     "output_type": "execute_result"
    },
    {
     "data": {
      "image/png": "[encoded data removed]",
      "text/plain": [
       "<Figure size 640x480 with 1 Axes>"
      ]
     },
     "metadata": {},
     "output_type": "display_data"
    }
   ],
   "source": [
    "import pandas as pd\n",
    "\n",
    "data_list = [3, 6, 9, 8, 5, 4, 2, 6, 3, 5, 8]\n",
    "\n",
    "data = pd.Series(data_list)\n",
    "\n",
    "data.plot(kind='barh')"
   ]
  },
  {
   "cell_type": "code",
   "execution_count": 30,
   "metadata": {},
   "outputs": [
    {
     "data": {
      "text/plain": [
       "<AxesSubplot:ylabel='Frequency'>"
      ]
     },
     "execution_count": 30,
     "metadata": {},
     "output_type": "execute_result"
    },
    {
     "data": {
      "image/png": "[encoded data removed]",
      "text/plain": [
       "<Figure size 640x480 with 1 Axes>"
      ]
     },
     "metadata": {},
     "output_type": "display_data"
    }
   ],
   "source": [
    "import pandas as pd\n",
    "\n",
    "data_list = [3, 6, 9, 8, 5, 4, 2, 6, 3, 5, 8]\n",
    "\n",
    "data = pd.Series(data_list)\n",
    "\n",
    "data.plot(kind='hist')"
   ]
  },
  {
   "cell_type": "code",
   "execution_count": 33,
   "metadata": {},
   "outputs": [
    {
     "data": {
      "text/plain": [
       "<AxesSubplot:>"
      ]
     },
     "execution_count": 33,
     "metadata": {},
     "output_type": "execute_result"
    },
    {
     "data": {
      "image/png": "[encoded data removed]",
      "text/plain": [
       "<Figure size 640x480 with 1 Axes>"
      ]
     },
     "metadata": {},
     "output_type": "display_data"
    }
   ],
   "source": [
    "import pandas as pd\n",
    "\n",
    "data_list = [3, 6, 9, 8, 5, 4, 2, 6, 3, 5, 8]\n",
    "\n",
    "data = pd.Series(data_list)\n",
    "\n",
    "data.plot(kind='box')"
   ]
  },
  {
   "cell_type": "code",
   "execution_count": 37,
   "metadata": {},
   "outputs": [
    {
     "data": {
      "text/plain": [
       "<AxesSubplot:>"
      ]
     },
     "execution_count": 37,
     "metadata": {},
     "output_type": "execute_result"
    },
    {
     "data": {
      "image/png": "[encoded data removed]",
      "text/plain": [
       "<Figure size 640x480 with 1 Axes>"
      ]
     },
     "metadata": {},
     "output_type": "display_data"
    }
   ],
   "source": [
    "import pandas as pd\n",
    "\n",
    "data_list = [3, 6, 9, 8, 10, 4, 2, 6, 10, 20, 15, 18, 8]\n",
    "\n",
    "data = pd.Series(data_list)\n",
    "\n",
    "data.plot(kind='box')"
   ]
  },
  {
   "cell_type": "code",
   "execution_count": 38,
   "metadata": {},
   "outputs": [
    {
     "data": {
      "text/plain": [
       "<AxesSubplot:ylabel='Density'>"
      ]
     },
     "execution_count": 38,
     "metadata": {},
     "output_type": "execute_result"
    },
    {
     "data": {
      "image/png": "[encoded data removed]",
      "text/plain": [
       "<Figure size 640x480 with 1 Axes>"
      ]
     },
     "metadata": {},
     "output_type": "display_data"
    }
   ],
   "source": [
    "import pandas as pd\n",
    "\n",
    "data_list = [3, 6, 9, 8, 5, 4, 2, 6, 3, 5, 8]\n",
    "\n",
    "data = pd.Series(data_list)\n",
    "\n",
    "data.plot(kind=\"kde\")"
   ]
  },
  {
   "cell_type": "code",
   "execution_count": 40,
   "metadata": {},
   "outputs": [
    {
     "data": {
      "text/plain": [
       "<AxesSubplot:ylabel='Density'>"
      ]
     },
     "execution_count": 40,
     "metadata": {},
     "output_type": "execute_result"
    },
    {
     "data": {
      "image/png": "[encoded data removed]",
      "text/plain": [
       "<Figure size 640x480 with 1 Axes>"
      ]
     },
     "metadata": {},
     "output_type": "display_data"
    }
   ],
   "source": [
    "import pandas as pd\n",
    "\n",
    "data_list = [3, 6, 9, 8, 5, 4, 2, 6, 3, 5, 8]\n",
    "\n",
    "data = pd.Series(data_list)\n",
    "\n",
    "data.plot(kind='density')"
   ]
  },
  {
   "cell_type": "code",
   "execution_count": 41,
   "metadata": {},
   "outputs": [
    {
     "data": {
      "text/plain": [
       "<AxesSubplot:>"
      ]
     },
     "execution_count": 41,
     "metadata": {},
     "output_type": "execute_result"
    },
    {
     "data": {
      "image/png": "[encoded data removed]",
      "text/plain": [
       "<Figure size 640x480 with 1 Axes>"
      ]
     },
     "metadata": {},
     "output_type": "display_data"
    }
   ],
   "source": [
    "import pandas as pd\n",
    "\n",
    "data_list = [3, 6, 9, 8, 5, 4, 2, 6, 3, 5, 8]\n",
    "\n",
    "data = pd.Series(data_list)\n",
    "\n",
    "data.plot(kind='area')"
   ]
  },
  {
   "cell_type": "markdown",
   "metadata": {},
   "source": [
    "## <span style=\"color: #cccc32\">DataFrame</span>"
   ]
  },
  {
   "cell_type": "markdown",
   "metadata": {},
   "source": [
    "-  is a 2 dimensional data structure, like a 2 dimensional array, or a table with rows and columns."
   ]
  },
  {
   "cell_type": "code",
   "execution_count": 43,
   "metadata": {},
   "outputs": [
    {
     "name": "stdout",
     "output_type": "stream",
     "text": [
      "    I  II  III  IV   V\n",
      "a   6  51   87  13  52\n",
      "b  11  58   36  15  67\n",
      "c   9  79   14  94  15\n",
      "------------------------------\n"
     ]
    }
   ],
   "source": [
    "import numpy as np\n",
    "import pandas as pd\n",
    "\n",
    "data = np.random.randint(1, 100, size=15).reshape(3, 5)\n",
    "\n",
    "rows_names = ['a', 'b', 'c']\n",
    "columns_names = ['I', 'II', 'III', 'IV', 'V']\n",
    "\n",
    "data_frame = pd.DataFrame(data=data, index=rows_names, columns=columns_names)\n",
    "\n",
    "print(data_frame)\n",
    "print('------------------------------')\n"
   ]
  },
  {
   "cell_type": "code",
   "execution_count": 9,
   "metadata": {},
   "outputs": [
    {
     "name": "stdout",
     "output_type": "stream",
     "text": [
      "---------------data--------------------\n",
      "[[24 35 98 92 73]\n",
      " [19 95 22  4 22]\n",
      " [55 53 20 90 27]\n",
      " [88  8 29 21 76]]\n",
      "----------------w----------------------\n",
      "{'a': 24, 'b': 35, 'c': 98, 'd': 92, 'e': 73}\n",
      "-----------------x----------------------\n",
      "{'a': 19, 'b': 95, 'c': 22, 'd': 4, 'e': 22}\n",
      "-----------------y------------------\n",
      "{'a': 55, 'b': 53, 'c': 20, 'd': 90, 'e': 27}\n",
      "-----------------z-------------------\n",
      "{'a': 88, 'b': 8, 'c': 29, 'd': 21, 'e': 76}\n",
      "----------------------df----------------------\n",
      "   Math  Physics  French  Chemistry\n",
      "a    24       19      55         88\n",
      "b    35       95      53          8\n",
      "c    98       22      20         29\n",
      "d    92        4      90         21\n",
      "e    73       22      27         76\n",
      "----------------------------------------------\n"
     ]
    }
   ],
   "source": [
    "import numpy as np\n",
    "import pandas as pd\n",
    "\n",
    "data = np.random.randint(1, 100, size=20).reshape(4, 5)\n",
    "rows_names = ['a', 'b', 'c', 'd', 'e']\n",
    "w , x, y, z = [dict(zip(rows_names, row)) for row in data]\n",
    "\n",
    "df = pd.DataFrame({'Math':w, 'Physics':x, 'French':y, 'Chemistry':z})\n",
    "\n",
    "print('---------------data--------------------')\n",
    "print(data)\n",
    "print('----------------w----------------------')\n",
    "print(w)\n",
    "print('-----------------x----------------------')\n",
    "print(x)\n",
    "print('-----------------y------------------')\n",
    "print(y)\n",
    "print('-----------------z-------------------')\n",
    "print(z)\n",
    "print('----------------------df----------------------')\n",
    "print(df)\n",
    "print('----------------------------------------------')\n"
   ]
  },
  {
   "cell_type": "markdown",
   "metadata": {},
   "source": [
    "<span style=\"color:#41bc66\">**Acessing Columns**</span>"
   ]
  },
  {
   "cell_type": "code",
   "execution_count": 8,
   "metadata": {},
   "outputs": [
    {
     "name": "stdout",
     "output_type": "stream",
     "text": [
      "a    53\n",
      "b    22\n",
      "c     2\n",
      "d     3\n",
      "e    22\n",
      "Name: Math, dtype: int64\n",
      "-----------------------------\n"
     ]
    }
   ],
   "source": [
    "import numpy as np\n",
    "import pandas as pd\n",
    "\n",
    "data = np.random.randint(1, 100, size=20).reshape(4, 5)\n",
    "rows_names = ['a', 'b', 'c', 'd', 'e']\n",
    "w , x, y, z = [dict(zip(rows_names, row)) for row in data]\n",
    "\n",
    "df = pd.DataFrame({'Math':w, 'Physics':x, 'French':y, 'Chemistry':z})\n",
    "\n",
    "print(df['Math'])\n",
    "print('-----------------------------')"
   ]
  },
  {
   "cell_type": "markdown",
   "metadata": {},
   "source": [
    "<span style=\"color:#41bc66\">**Transpose**</span>"
   ]
  },
  {
   "cell_type": "markdown",
   "metadata": {},
   "source": [
    "- `T` property is used to transpose index and columns of the data frame. The property `T` is somehow related to method transpose().\n",
    "- The main function of this property is to create a reflection of the data frame overs the main diagonal by making rows as columns and vice versa."
   ]
  },
  {
   "cell_type": "code",
   "execution_count": 7,
   "metadata": {},
   "outputs": [
    {
     "name": "stdout",
     "output_type": "stream",
     "text": [
      "   Math  Physics  French  Chemistry\n",
      "a    88       78      24         96\n",
      "b    99       54      28          6\n",
      "c    87       19      74         90\n",
      "d    19       16      36         13\n",
      "e    37       94      57         41\n",
      "---------------------------------------------\n",
      "            a   b   c   d   e\n",
      "Math       88  99  87  19  37\n",
      "Physics    78  54  19  16  94\n",
      "French     24  28  74  36  57\n",
      "Chemistry  96   6  90  13  41\n",
      "---------------------------------------------\n"
     ]
    }
   ],
   "source": [
    "import numpy as np\n",
    "import pandas as pd\n",
    "\n",
    "data = np.random.randint(1, 100, size=20).reshape(4, 5)\n",
    "rows_names = ['a', 'b', 'c', 'd', 'e']\n",
    "w , x, y, z = [dict(zip(rows_names, row)) for row in data]\n",
    "\n",
    "df = pd.DataFrame({'Math':w, 'Physics':x, 'French':y, 'Chemistry':z})\n",
    "\n",
    "print(df)\n",
    "print('---------------------------------------------')\n",
    "print(df.T)\n",
    "print('---------------------------------------------')"
   ]
  },
  {
   "cell_type": "markdown",
   "metadata": {},
   "source": [
    "<span style=\"color:#41bc66\">**keys() & values**</span>"
   ]
  },
  {
   "cell_type": "markdown",
   "metadata": {},
   "source": [
    "- `keys()`: use to get column names\n",
    "- `values`: return row values\n",
    "- `index`: return row names "
   ]
  },
  {
   "cell_type": "code",
   "execution_count": 10,
   "metadata": {},
   "outputs": [
    {
     "name": "stdout",
     "output_type": "stream",
     "text": [
      "Index(['Math', 'Physics', 'French', 'Chemistry'], dtype='object')\n",
      "----------------------------------------\n",
      "[[15 25 37 87]\n",
      " [ 6 95 10 65]\n",
      " [85 22 14 98]\n",
      " [90 59 17 42]\n",
      " [98 33 51 94]]\n",
      "----------------------------------------\n",
      "Index(['a', 'b', 'c', 'd', 'e'], dtype='object')\n",
      "----------------------------------------\n"
     ]
    }
   ],
   "source": [
    "import numpy as np\n",
    "import pandas as pd\n",
    "\n",
    "data = np.random.randint(1, 100, size=20).reshape(4, 5)\n",
    "rows_names = ['a', 'b', 'c', 'd', 'e']\n",
    "w , x, y, z = [dict(zip(rows_names, row)) for row in data]\n",
    "\n",
    "df = pd.DataFrame({'Math':w, 'Physics':x, 'French':y, 'Chemistry':z})\n",
    "\n",
    "print(df.keys())\n",
    "print('----------------------------------------')\n",
    "print(df.values)\n",
    "print('----------------------------------------')\n",
    "print(df.index)\n",
    "print('----------------------------------------')"
   ]
  },
  {
   "cell_type": "markdown",
   "metadata": {},
   "source": [
    "<span style=\"color:#41bc66\">**check**</span>"
   ]
  },
  {
   "cell_type": "markdown",
   "metadata": {},
   "source": [
    "- we can check of an element is in `DataFrame` or not with using `in`\n",
    "    - check in `keys()`\n",
    "    - check in `values`"
   ]
  },
  {
   "cell_type": "code",
   "execution_count": 5,
   "metadata": {},
   "outputs": [
    {
     "name": "stdout",
     "output_type": "stream",
     "text": [
      "True\n",
      "---------------------------------\n",
      "False\n",
      "---------------------------------\n",
      "True\n",
      "--------------------------------\n",
      "False\n",
      "---------------------------------\n"
     ]
    }
   ],
   "source": [
    "import numpy as np\n",
    "import pandas as pd\n",
    "\n",
    "data = np.random.randint(1, 100, size=20).reshape(4, 5)\n",
    "rows_names = ['a', 'b', 'c', 'd', 'e']\n",
    "w , x, y, z = [dict(zip(rows_names, row)) for row in data]\n",
    "\n",
    "df = pd.DataFrame({'Math':w, 'Physics':x, 'French':y, 'Chemistry':z})\n",
    "\n",
    "print('Math' in df.keys())\n",
    "print('---------------------------------')\n",
    "print('math' in df.keys())\n",
    "print('---------------------------------')\n",
    "print(12 in df.values)\n",
    "print('--------------------------------')\n",
    "print(55 in df.values)\n",
    "print('---------------------------------')"
   ]
  },
  {
   "cell_type": "markdown",
   "metadata": {},
   "source": [
    "<span style=\"color:#41bc66\">**stack & stack**</span>"
   ]
  },
  {
   "cell_type": "markdown",
   "metadata": {},
   "source": [
    "- `stack`: used to `stack` the prescribed level(s) from `columns` to `index`. Return a `reshaped` DataFrame or Series having a multi-level index with one or more new inner-most levels compared to the current `DataFrame`.\n",
    "- `unstack`: unstack the prescribed level(s) from row to column."
   ]
  },
  {
   "cell_type": "markdown",
   "metadata": {},
   "source": [
    "<p align=\"center\"><img src=\"./pic/stack_unstack.png?raw=true\" width = 600px/></p>"
   ]
  },
  {
   "cell_type": "code",
   "execution_count": 26,
   "metadata": {},
   "outputs": [
    {
     "name": "stdout",
     "output_type": "stream",
     "text": [
      "   Math  Physics  French  Chemistry\n",
      "a    25       56       3         47\n",
      "b    43       80      37         20\n",
      "c    27       57      56         77\n",
      "d    96        7      80         74\n",
      "e    87       80      48         44\n",
      "-----------------\n",
      "a  Math         25\n",
      "   Physics      56\n",
      "   French        3\n",
      "   Chemistry    47\n",
      "b  Math         43\n",
      "   Physics      80\n",
      "   French       37\n",
      "   Chemistry    20\n",
      "c  Math         27\n",
      "   Physics      57\n",
      "   French       56\n",
      "   Chemistry    77\n",
      "d  Math         96\n",
      "   Physics       7\n",
      "   French       80\n",
      "   Chemistry    74\n",
      "e  Math         87\n",
      "   Physics      80\n",
      "   French       48\n",
      "   Chemistry    44\n",
      "dtype: int64\n",
      "-----------------\n",
      "   Math  Physics  French  Chemistry\n",
      "a    25       56       3         47\n",
      "b    43       80      37         20\n",
      "c    27       57      56         77\n",
      "d    96        7      80         74\n",
      "e    87       80      48         44\n",
      "-----------------\n"
     ]
    }
   ],
   "source": [
    "import numpy as np\n",
    "import pandas as pd\n",
    "\n",
    "data = np.random.randint(1, 100, size=20).reshape(4, 5)\n",
    "rows_names = ['a', 'b', 'c', 'd', 'e']\n",
    "w , x, y, z = [dict(zip(rows_names, row)) for row in data]\n",
    "\n",
    "df = pd.DataFrame({'Math':w, 'Physics':x, 'French':y, 'Chemistry':z})\n",
    "\n",
    "print(df)\n",
    "print('-----------------')\n",
    "new_df = df.stack()\n",
    "print(new_df)\n",
    "print('-----------------')\n",
    "print(new_df.unstack())\n",
    "print('-----------------')"
   ]
  },
  {
   "cell_type": "markdown",
   "metadata": {},
   "source": [
    "<span style=\"color:#41bc66\">**locate**</span>"
   ]
  },
  {
   "cell_type": "markdown",
   "metadata": {},
   "source": [
    "As you can see from the result above, the DataFrame is like a table with rows and columns.\n",
    "\n",
    "- Pandas use the `loc` attribute to return one or more specified row(s)\n",
    "- we can use `loci` to  locate with indcies"
   ]
  },
  {
   "cell_type": "code",
   "execution_count": 3,
   "metadata": {},
   "outputs": [
    {
     "name": "stdout",
     "output_type": "stream",
     "text": [
      "   Math  Physics\n",
      "a    72       14\n",
      "b    45       54\n",
      "c    15       19\n",
      "----------------------------------\n",
      "   Math  Physics  French  Chemistry\n",
      "b    45       54      34         63\n",
      "c    15       19      35         49\n",
      "----------------------------------\n"
     ]
    }
   ],
   "source": [
    "import numpy as np\n",
    "import pandas as pd\n",
    "\n",
    "data = np.random.randint(1, 100, size=20).reshape(4, 5)\n",
    "rows_names = ['a', 'b', 'c', 'd', 'e']\n",
    "w , x, y, z = [dict(zip(rows_names, row)) for row in data]\n",
    "\n",
    "df = pd.DataFrame({'Math':w, 'Physics':x, 'French':y, 'Chemistry':z})\n",
    "\n",
    "\n",
    "print(df.iloc[:3, :2])\n",
    "print('----------------------------------')\n",
    "print(df.loc['b':'c', 'Math':])\n",
    "print('----------------------------------')"
   ]
  },
  {
   "cell_type": "markdown",
   "metadata": {},
   "source": [
    "<span style=\"color:#41bc66\">**Filtering**</span>"
   ]
  },
  {
   "cell_type": "code",
   "execution_count": 32,
   "metadata": {},
   "outputs": [
    {
     "name": "stdout",
     "output_type": "stream",
     "text": [
      "   Math  Physics  French  Chemistry\n",
      "c    56       62      88         32\n",
      "d    89       70      44         32\n",
      "e    57       79      61         17\n",
      "-------------------------------\n",
      "   Math  French\n",
      "c    56      88\n",
      "d    89      44\n",
      "e    57      61\n",
      "-------------------------------\n",
      "   Math  Physics  French  Chemistry\n",
      "c    56       62      88         32\n",
      "--------------------------------\n"
     ]
    }
   ],
   "source": [
    "import numpy as np\n",
    "import pandas as pd\n",
    "\n",
    "data = np.random.randint(1, 100, size=20).reshape(4, 5)\n",
    "rows_names = ['a', 'b', 'c', 'd', 'e']\n",
    "w , x, y, z = [dict(zip(rows_names, row)) for row in data]\n",
    "\n",
    "df = pd.DataFrame({'Math':w, 'Physics':x, 'French':y, 'Chemistry':z})\n",
    "\n",
    "print(df.loc[df.Math > 50])\n",
    "print('-------------------------------')\n",
    "print(df.loc[df.Math > 50, ['Math', 'French']])\n",
    "print('-------------------------------')\n",
    "print(df.loc[(df.Math > 50) & (df.French > 65)])\n",
    "print('--------------------------------')"
   ]
  },
  {
   "cell_type": "markdown",
   "metadata": {},
   "source": [
    "<span style=\"color:#41bc66\">**Retrieve with Sorting Values**</span>"
   ]
  },
  {
   "cell_type": "code",
   "execution_count": 45,
   "metadata": {},
   "outputs": [
    {
     "name": "stdout",
     "output_type": "stream",
     "text": [
      "[[33 23 45 62]\n",
      " [66 58 23 78]\n",
      " [92 58 83  9]\n",
      " [37 33 90 97]\n",
      " [41 75  8 75]]\n",
      "----------------------------------\n",
      "   Math  Physcis  French  Chemistry\n",
      "a    33       23      45         62\n",
      "b    66       58      23         78\n",
      "c    92       58      83          9\n",
      "d    37       33      90         97\n",
      "e    41       75       8         75\n",
      "----------------------------------\n",
      "   Math  Physcis  French  Chemistry\n",
      "a    33       23      45         62\n",
      "d    37       33      90         97\n",
      "e    41       75       8         75\n",
      "b    66       58      23         78\n",
      "c    92       58      83          9\n",
      "----------------------------------\n",
      "   Math  Physcis  French  Chemistry\n",
      "d    37       33      90         97\n",
      "c    92       58      83          9\n",
      "a    33       23      45         62\n",
      "b    66       58      23         78\n",
      "e    41       75       8         75\n",
      "----------------------------------\n"
     ]
    }
   ],
   "source": [
    "import numpy as np\n",
    "import pandas as pd\n",
    "\n",
    "data = np.random.randint(1, 100, size=20).reshape(5, 4)\n",
    "rows_names = ['a', 'b', 'c', 'd', 'e']\n",
    "columns_names = ['Math', 'Physcis', 'French', 'Chemistry']\n",
    "cols = [dict(zip(columns_names, row)) for row in data]\n",
    "table = dict(zip(rows_names, cols))\n",
    "\n",
    "grades = pd.DataFrame(table).T\n",
    "print(data)\n",
    "print('----------------------------------')\n",
    "print(grades)\n",
    "print('----------------------------------')\n",
    "print(grades.sort_values(['Math'], ascending=True))\n",
    "print('----------------------------------')\n",
    "print(grades.sort_values(['French'], ascending=False))\n",
    "print('----------------------------------')"
   ]
  },
  {
   "cell_type": "markdown",
   "metadata": {},
   "source": [
    "### <span style=\"color: #49a9b7\">Statistics</span>"
   ]
  },
  {
   "cell_type": "markdown",
   "metadata": {},
   "source": [
    "- `max()`\n",
    "- `min()`\n",
    "- `mean()`\n",
    "- `std()`"
   ]
  },
  {
   "cell_type": "code",
   "execution_count": 1,
   "metadata": {},
   "outputs": [
    {
     "name": "stdout",
     "output_type": "stream",
     "text": [
      "   Math  Physcis  French  Chemistry\n",
      "a     1        2       3          4\n",
      "b     5        6       7          8\n",
      "c     9       10      11         12\n",
      "d    13       14      15         16\n",
      "e    17       18      19         20\n",
      "--------------------------------------\n",
      "Math         17\n",
      "Physcis      18\n",
      "French       19\n",
      "Chemistry    20\n",
      "dtype: int64\n",
      "--------------------------------------\n",
      "Math         1\n",
      "Physcis      2\n",
      "French       3\n",
      "Chemistry    4\n",
      "dtype: int64\n",
      "--------------------------------------\n",
      "Math          9.0\n",
      "Physcis      10.0\n",
      "French       11.0\n",
      "Chemistry    12.0\n",
      "dtype: float64\n",
      "--------------------------------------\n",
      "Math         6.324555\n",
      "Physcis      6.324555\n",
      "French       6.324555\n",
      "Chemistry    6.324555\n",
      "dtype: float64\n",
      "--------------------------------------\n"
     ]
    }
   ],
   "source": [
    "import numpy as np\n",
    "import pandas as pd\n",
    "\n",
    "arr = np.arange(1, 21).reshape(5, 4)\n",
    "rows_names = ['a', 'b', 'c', 'd', 'e']\n",
    "columns_names = ['Math', 'Physcis', 'French', 'Chemistry']\n",
    "cols = [dict(zip(columns_names, row)) for row in arr]\n",
    "table = dict(zip(rows_names, cols))\n",
    "\n",
    "grades = pd.DataFrame(table).T\n",
    "\n",
    "print(grades)\n",
    "print('--------------------------------------')\n",
    "print(grades.max())\n",
    "print('--------------------------------------')\n",
    "print(grades.min())\n",
    "print('--------------------------------------')\n",
    "print(grades.mean())\n",
    "print('--------------------------------------')\n",
    "print(grades.std())\n",
    "print('--------------------------------------')"
   ]
  },
  {
   "cell_type": "code",
   "execution_count": 4,
   "metadata": {},
   "outputs": [
    {
     "name": "stdout",
     "output_type": "stream",
     "text": [
      "   Math  Physcis  French  Chemistry\n",
      "a     1        2       3          4\n",
      "b     5        6       7          8\n",
      "c     9       10      11         12\n",
      "d    13       14      15         16\n",
      "e    17       18      19         20\n",
      "---------------------\n",
      "17\n",
      "---------------------\n",
      "6.324555320336759\n",
      "---------------------\n",
      "11.0\n",
      "---------------------\n"
     ]
    }
   ],
   "source": [
    "import numpy as np\n",
    "import pandas as pd\n",
    "\n",
    "arr = np.arange(1, 21).reshape(5, 4)\n",
    "rows_names = ['a', 'b', 'c', 'd', 'e']\n",
    "columns_names = ['Math', 'Physcis', 'French', 'Chemistry']\n",
    "\n",
    "grades = pd.DataFrame(arr, index=rows_names, columns=columns_names)\n",
    "\n",
    "print(grades)\n",
    "print('---------------------')\n",
    "print(grades.Math.max())\n",
    "print('---------------------')\n",
    "print(grades.Physcis.std())\n",
    "print('---------------------')\n",
    "print(grades.French.mean())\n",
    "print('---------------------')"
   ]
  },
  {
   "cell_type": "code",
   "execution_count": 8,
   "metadata": {},
   "outputs": [
    {
     "name": "stdout",
     "output_type": "stream",
     "text": [
      "    A   B\n",
      "0  98  34\n",
      "1  97  44\n",
      "2  43  22\n",
      "3  98  30\n",
      "4  39  26\n",
      "5  83  28\n",
      "6  51  49\n",
      "7  94  14\n",
      "8  94  99\n",
      "9   4  82\n",
      "-----------------------\n",
      "A    701\n",
      "B    428\n",
      "dtype: int64\n",
      "-----------------------\n",
      "A    233733474638943552\n",
      "B      4002949130019840\n",
      "dtype: int64\n",
      "-----------------------\n",
      "A    70.1\n",
      "B    42.8\n",
      "dtype: float64\n",
      "-----------------------\n",
      "701\n",
      "-----------------------\n",
      "42.8\n",
      "-----------------------\n",
      "0    66.0\n",
      "1    70.5\n",
      "2    32.5\n",
      "3    64.0\n",
      "4    32.5\n",
      "5    55.5\n",
      "6    50.0\n",
      "7    54.0\n",
      "8    96.5\n",
      "9    43.0\n",
      "dtype: float64\n",
      "-----------------------\n",
      "A    701\n",
      "B    428\n",
      "dtype: int64\n",
      "-----------------------\n"
     ]
    }
   ],
   "source": [
    "import numpy as np\n",
    "import pandas as pd\n",
    "\n",
    "data = np.random.randint(1, 100, size=20).reshape(10, 2)\n",
    "\n",
    "df = pd.DataFrame(data, columns=['A', 'B'])\n",
    "\n",
    "print(df)\n",
    "print('-----------------------')\n",
    "print(df.sum())\n",
    "print('-----------------------')\n",
    "print(df.prod())\n",
    "print('-----------------------')\n",
    "print(df.mean())\n",
    "print('-----------------------')\n",
    "print(df['A'].sum())\n",
    "print('-----------------------')\n",
    "print(df['B'].mean())\n",
    "print('-----------------------')\n",
    "print(df.mean(axis='columns'))\n",
    "print('-----------------------')\n",
    "print(df.sum(axis='index'))\n",
    "print('-----------------------')"
   ]
  },
  {
   "cell_type": "code",
   "execution_count": 13,
   "metadata": {},
   "outputs": [
    {
     "name": "stdout",
     "output_type": "stream",
     "text": [
      "    A   B\n",
      "0  92  93\n",
      "1   2  18\n",
      "2  11  78\n",
      "3  80  30\n",
      "4  56  89\n",
      "5  73  67\n",
      "6  85  65\n",
      "7  99  15\n",
      "8  47  53\n",
      "9  42  47\n",
      "-----------------------\n",
      "               A          B\n",
      "count  10.000000  10.000000\n",
      "mean   58.700000  55.500000\n",
      "std    33.326833  27.953334\n",
      "min     2.000000  15.000000\n",
      "25%    43.250000  34.250000\n",
      "50%    64.500000  59.000000\n",
      "75%    83.750000  75.250000\n",
      "max    99.000000  93.000000\n",
      "-----------------------\n"
     ]
    },
    {
     "data": {
      "text/plain": [
       "<AxesSubplot:>"
      ]
     },
     "execution_count": 13,
     "metadata": {},
     "output_type": "execute_result"
    },
    {
     "data": {
      "image/png": "[encoded data removed]",
      "text/plain": [
       "<Figure size 640x480 with 1 Axes>"
      ]
     },
     "metadata": {},
     "output_type": "display_data"
    }
   ],
   "source": [
    "import numpy as np\n",
    "import pandas as pd\n",
    "\n",
    "data = np.random.randint(1, 100, size=20).reshape(10, 2)\n",
    "\n",
    "df = pd.DataFrame(data, columns=['A', 'B'])\n",
    "\n",
    "print(df)\n",
    "print('-----------------------')\n",
    "print(df.describe())\n",
    "print('-----------------------')\n",
    "df.plot(kind='box')"
   ]
  },
  {
   "cell_type": "markdown",
   "metadata": {},
   "source": [
    "<span style=\"color:#41bc66\">**Correlation**</span>"
   ]
  },
  {
   "cell_type": "markdown",
   "metadata": {},
   "source": [
    "used to find the pairwise correlation of all columns in the Pandas Dataframe in Python."
   ]
  },
  {
   "cell_type": "code",
   "execution_count": 5,
   "metadata": {},
   "outputs": [
    {
     "name": "stdout",
     "output_type": "stream",
     "text": [
      "          A         B         C\n",
      "0  0.413500  0.874991  0.762693\n",
      "1  0.776048  0.690615  0.224443\n",
      "2  0.126178  0.118267  0.159303\n",
      "3  0.023866  0.975316  0.073367\n",
      "4  0.250222  0.891413  0.992557\n",
      "---------------------\n",
      "          A         B         C\n",
      "A  1.000000  0.073569  0.116899\n",
      "B  0.073569  1.000000  0.399207\n",
      "C  0.116899  0.399207  1.000000\n",
      "---------------------\n"
     ]
    }
   ],
   "source": [
    "import numpy as np\n",
    "import pandas as pd\n",
    "\n",
    "df = pd.DataFrame(np.random.rand(5, 3), columns=['A', 'B', 'C'])\n",
    "\n",
    "print(df)\n",
    "print('---------------------')\n",
    "print(df.corr())\n",
    "print('---------------------')"
   ]
  },
  {
   "cell_type": "markdown",
   "metadata": {},
   "source": [
    "<span style=\"color:#41bc66\">**Skew**</span>"
   ]
  },
  {
   "cell_type": "markdown",
   "metadata": {},
   "source": [
    "The skew() method calculates the skew for each column."
   ]
  },
  {
   "cell_type": "code",
   "execution_count": 1,
   "metadata": {},
   "outputs": [
    {
     "name": "stdout",
     "output_type": "stream",
     "text": [
      "          A         B         C\n",
      "0  0.404252  0.314501  0.282954\n",
      "1  0.662645  0.553560  0.783029\n",
      "2  0.193921  0.003088  0.039726\n",
      "3  0.677650  0.766873  0.721927\n",
      "4  0.578256  0.734138  0.786718\n",
      "-------------------------------\n",
      "A   -1.018482\n",
      "B   -0.844611\n",
      "C   -0.861548\n",
      "dtype: float64\n",
      "-------------------------------\n"
     ]
    }
   ],
   "source": [
    "import numpy as np\n",
    "import pandas as pd\n",
    "\n",
    "df = pd.DataFrame(np.random.rand(5, 3), columns=['A', 'B', 'C'])\n",
    "\n",
    "print(df)\n",
    "print('-------------------------------')\n",
    "print(df.skew())\n",
    "print('-------------------------------')"
   ]
  },
  {
   "cell_type": "markdown",
   "metadata": {},
   "source": [
    "### <span style=\"color: #49a9b7\">Operations on DataFrames</span>"
   ]
  },
  {
   "cell_type": "markdown",
   "metadata": {},
   "source": [
    "`dataframe with list comprehension`"
   ]
  },
  {
   "cell_type": "code",
   "execution_count": 4,
   "metadata": {},
   "outputs": [
    {
     "name": "stdout",
     "output_type": "stream",
     "text": [
      "   square\n",
      "0       0\n",
      "1       1\n",
      "2       4\n",
      "3       9\n",
      "4      16\n",
      "5      25\n",
      "6      36\n",
      "7      49\n",
      "8      64\n",
      "9      81\n",
      "------------------------------\n"
     ]
    }
   ],
   "source": [
    "import pandas as pd\n",
    "\n",
    "data = [{'square': i**2} for i in range(10)]\n",
    "df = pd.DataFrame(data)\n",
    "\n",
    "print(df)\n",
    "print('------------------------------')"
   ]
  },
  {
   "cell_type": "code",
   "execution_count": 5,
   "metadata": {},
   "outputs": [
    {
     "name": "stdout",
     "output_type": "stream",
     "text": [
      "   square  cube      root\n",
      "0       0     0  0.000000\n",
      "1       1     1  1.000000\n",
      "2       4     8  1.414214\n",
      "3       9    27  1.732051\n",
      "4      16    64  2.000000\n",
      "5      25   125  2.236068\n",
      "6      36   216  2.449490\n",
      "7      49   343  2.645751\n",
      "8      64   512  2.828427\n",
      "9      81   729  3.000000\n",
      "----------------------------------\n"
     ]
    }
   ],
   "source": [
    "import pandas as pd\n",
    "\n",
    "data = [{'square': i**2, 'cube': i**3, 'root': i**0.5} for i in range(10)]\n",
    "\n",
    "df = pd.DataFrame(data)\n",
    "\n",
    "print(df)\n",
    "print('----------------------------------')"
   ]
  },
  {
   "cell_type": "markdown",
   "metadata": {},
   "source": [
    "<span style=\"color:#41bc66\">**NaN**</span>"
   ]
  },
  {
   "cell_type": "markdown",
   "metadata": {},
   "source": [
    "NaN stands for Not A Number and is one of the common ways to represent the missing value in the data"
   ]
  },
  {
   "cell_type": "code",
   "execution_count": 6,
   "metadata": {},
   "outputs": [
    {
     "name": "stdout",
     "output_type": "stream",
     "text": [
      "     a    b    c    d\n",
      "0  1.0  2.0  NaN  NaN\n",
      "1  NaN  3.0  4.0  NaN\n",
      "2  NaN  NaN  5.0  6.0\n"
     ]
    }
   ],
   "source": [
    "import pandas as pd\n",
    "\n",
    "df = pd.DataFrame([{'a': 1, 'b': 2}, {'b': 3, 'c': 4}, {'c': 5, 'd': 6}])\n",
    "\n",
    "print(df)"
   ]
  },
  {
   "cell_type": "markdown",
   "metadata": {},
   "source": [
    "<span style=\"color:#41bc66\">**Create New Column**</span>"
   ]
  },
  {
   "cell_type": "code",
   "execution_count": 81,
   "metadata": {},
   "outputs": [
    {
     "name": "stdout",
     "output_type": "stream",
     "text": [
      "   Math  Physics  French  Chemistry\n",
      "a    52       12       6         72\n",
      "b    51        1      33          1\n",
      "c    44       98      18         39\n",
      "d    52       84      94         84\n",
      "e    47       66      80         94\n",
      "----------------------------------------\n",
      "   Math  Physics  French  Chemistry  Total\n",
      "a    52       12       6         72  35.50\n",
      "b    51        1      33          1  21.50\n",
      "c    44       98      18         39  49.75\n",
      "d    52       84      94         84  78.50\n",
      "e    47       66      80         94  71.75\n",
      "----------------------------------------\n",
      "Empty DataFrame\n",
      "Columns: [Math, Physics, French, Chemistry, Total]\n",
      "Index: []\n",
      "----------------------------------------\n"
     ]
    }
   ],
   "source": [
    "import numpy as np\n",
    "import pandas as pd\n",
    "\n",
    "data = np.random.randint(1, 100,size=20).reshape(5, 4)\n",
    "\n",
    "grades = pd.DataFrame(data, index=['a', 'b', 'c', 'd', 'e'], columns=['Math', 'Physics', 'French', 'Chemistry'])\n",
    "\n",
    "print(grades)\n",
    "print('----------------------------------------')\n",
    "\n",
    "grades['Total'] = grades.sum(axis=1) / 4\n",
    "print(grades)\n",
    "print('----------------------------------------')\n",
    "print(grades.loc[grades.Total > 80])\n",
    "print('----------------------------------------')"
   ]
  },
  {
   "cell_type": "code",
   "execution_count": 54,
   "metadata": {},
   "outputs": [
    {
     "name": "stdout",
     "output_type": "stream",
     "text": [
      "    A   B   C\n",
      "0   9  67  24\n",
      "1  10  56  74\n",
      "2  48  97  76\n",
      "3  74  97  40\n",
      "4  93  82  28\n",
      "----------------------------------\n",
      "0    3.304348\n",
      "1    0.904110\n",
      "2    1.933333\n",
      "3    4.384615\n",
      "4    6.481481\n",
      "dtype: float64\n",
      "----------------------------------\n"
     ]
    }
   ],
   "source": [
    "import numpy as np\n",
    "import pandas as pd\n",
    "\n",
    "df = pd.DataFrame(np.random.randint(1, 100, size=15).reshape(5, 3), columns=['A', 'B', 'C'])\n",
    "\n",
    "result = (df['A'] + df['B']) / (df['C'] - 1)\n",
    "\n",
    "print(df)\n",
    "print('----------------------------------')\n",
    "print(result)\n",
    "print('----------------------------------')"
   ]
  },
  {
   "cell_type": "markdown",
   "metadata": {},
   "source": [
    "<span style=\"color:#41bc66\">**eval()**</span>"
   ]
  },
  {
   "cell_type": "markdown",
   "metadata": {},
   "source": [
    "function evaluates a string describing operations on DataFrame columns. Operates on columns only, not specific rows or elements. This allows eval to run arbitrary code, which can make you vulnerable to code injection if you pass user input to this function."
   ]
  },
  {
   "cell_type": "code",
   "execution_count": 55,
   "metadata": {},
   "outputs": [
    {
     "name": "stdout",
     "output_type": "stream",
     "text": [
      "    A   B   C\n",
      "0  82  65  62\n",
      "1   8  91  64\n",
      "2   2  99  62\n",
      "3  46  11  47\n",
      "4  83  17  16\n",
      "--------------------------------\n",
      "0    2.409836\n",
      "1    1.571429\n",
      "2    1.655738\n",
      "3    1.239130\n",
      "4    6.666667\n",
      "dtype: float64\n",
      "--------------------------------\n"
     ]
    }
   ],
   "source": [
    "import numpy as np\n",
    "import pandas as pd\n",
    "\n",
    "df = pd.DataFrame(np.random.randint(1, 100, size=15).reshape(5, 3), columns=['A', 'B', 'C'])\n",
    "result = pd.eval('(df.A + df.B) / (df.C - 1)')\n",
    "\n",
    "print(df)\n",
    "print('--------------------------------')\n",
    "print(result)\n",
    "print('--------------------------------')"
   ]
  },
  {
   "cell_type": "markdown",
   "metadata": {},
   "source": [
    "<span style=\"color:#41bc66\">**query()**</span>"
   ]
  },
  {
   "cell_type": "markdown",
   "metadata": {},
   "source": [
    "method is used to query the rows based on the expression (single or multiple column conditions) provided and returns a new DataFrame. "
   ]
  },
  {
   "cell_type": "code",
   "execution_count": 56,
   "metadata": {},
   "outputs": [
    {
     "name": "stdout",
     "output_type": "stream",
     "text": [
      "          A         B         C\n",
      "0  0.071751  0.813642  0.710513\n",
      "1  0.289516  0.714604  0.396607\n",
      "2  0.247046  0.033635  0.295897\n",
      "3  0.798599  0.565521  0.812307\n",
      "4  0.631097  0.136117  0.962577\n",
      "----------------------------\n",
      "          A         B         C\n",
      "4  0.631097  0.136117  0.962577\n",
      "----------------------------\n"
     ]
    }
   ],
   "source": [
    "import numpy as np\n",
    "import pandas as pd\n",
    "\n",
    "df = pd.DataFrame(np.random.rand(5, 3), columns=['A', 'B', 'C'])\n",
    "\n",
    "print(df)\n",
    "print('----------------------------')\n",
    "print(df.query('A > 0.5 and B < 0.5'))\n",
    "print('----------------------------')"
   ]
  },
  {
   "cell_type": "code",
   "execution_count": 60,
   "metadata": {},
   "outputs": [
    {
     "name": "stdout",
     "output_type": "stream",
     "text": [
      "          A         B         C\n",
      "0  0.055417  0.545461  0.437569\n",
      "1  0.608685  0.978338  0.701264\n",
      "2  0.178670  0.764195  0.635076\n",
      "3  0.338034  0.344962  0.094271\n",
      "4  0.091445  0.367199  0.223734\n",
      "----------------------------------\n",
      "0    False\n",
      "1    False\n",
      "2     True\n",
      "3    False\n",
      "4    False\n",
      "dtype: bool\n",
      "----------------------------------\n",
      "         A         B         C\n",
      "2  0.17867  0.764195  0.635076\n",
      "----------------------------------\n"
     ]
    }
   ],
   "source": [
    "import numpy as np\n",
    "import pandas as pd\n",
    "\n",
    "\n",
    "df = pd.DataFrame(np.random.rand(5, 3), columns=['A', 'B', 'C'])\n",
    "\n",
    "tmp1 = df.A < 0.5\n",
    "tmp2 = df.C > 0.5\n",
    "tmp3 = tmp1 & tmp2\n",
    "\n",
    "print(df)\n",
    "print('----------------------------------')\n",
    "print(tmp3)\n",
    "print('----------------------------------')\n",
    "print(df[tmp3])\n",
    "print('----------------------------------')\n"
   ]
  },
  {
   "cell_type": "code",
   "execution_count": 72,
   "metadata": {},
   "outputs": [
    {
     "name": "stdout",
     "output_type": "stream",
     "text": [
      "    A   B   C\n",
      "0  A0  B0  C0\n",
      "1  A1  B1  C1\n",
      "2  A2  B2  C2\n"
     ]
    }
   ],
   "source": [
    "import numpy as np\n",
    "import pandas as pd\n",
    "\n",
    "def make_df(rows, cols):\n",
    "    data = {col: [str(col)+str(row) for row in rows] for col in cols}\n",
    "    return pd.DataFrame(data, rows)\n",
    "\n",
    "\n",
    "rows = range(3)\n",
    "cols = 'ABC'\n",
    "df = make_df(rows, cols)\n",
    "print(df)"
   ]
  },
  {
   "cell_type": "markdown",
   "metadata": {},
   "source": [
    "<span style=\"color:#41bc66\">**merge()**</span>"
   ]
  },
  {
   "cell_type": "markdown",
   "metadata": {},
   "source": [
    "- function is used to merge two DataFrame objects with a database-style join operation.\n",
    "- The joining is performed on columns or indexes.\n",
    "- If the joining is done on columns, indexes are ignored.\n",
    "- This function returns a new DataFrame and the source DataFrame objects are unchanged."
   ]
  },
  {
   "cell_type": "code",
   "execution_count": 74,
   "metadata": {},
   "outputs": [
    {
     "name": "stdout",
     "output_type": "stream",
     "text": [
      "  employee        group  hire_date\n",
      "0      Bob   Accounting       2008\n",
      "1     Jake  Engineering       2012\n",
      "2     Lisa  Engineering       2004\n",
      "3      Sue           HR       2014\n",
      "---------------------------------------\n",
      "  employee        group  hire_date supervisor\n",
      "0     Jake  Engineering       2012      Guido\n",
      "1     Lisa  Engineering       2004      Guido\n",
      "2      Sue           HR       2014      Steve\n",
      "----------------------------------------\n"
     ]
    }
   ],
   "source": [
    "import pandas as pd\n",
    "\n",
    "df1 = pd.DataFrame({'employee': ['Bob', 'Jake', 'Lisa', 'Sue'],\n",
    "                    'group': ['Accounting', 'Engineering', 'Engineering', 'HR']})\n",
    "\n",
    "df2 = pd.DataFrame({'employee': ['Lisa', 'Bob', 'Jake', 'Sue'],\n",
    "                    'hire_date': [2004, 2008, 2012, 2014]})\n",
    "\n",
    "df3 = pd.merge(df1, df2)\n",
    "print(df3)\n",
    "print('---------------------------------------')\n",
    "\n",
    "df4 = pd.DataFrame({'group': ['Accountin', 'Engineering', 'HR'],\n",
    "                    'supervisor': ['Carly', 'Guido', 'Steve']})\n",
    "\n",
    "df5 = pd.merge(df3, df4)\n",
    "print(df5)\n",
    "print('----------------------------------------')"
   ]
  },
  {
   "cell_type": "markdown",
   "metadata": {},
   "source": [
    "**Merge Options**\n",
    "- merge has some options by passing value to `how` arg\n",
    "    - `'inner'`: just merge intersection between them *defualt option*\n",
    "    - `'outer'`: merge 2 dataframes and create new one that contains all itmes\n",
    "    - `'right'`: merge 2 dataframes and create new one that contains all itmes of 1st dataframe and only intersected items from second\n",
    "    - `'left'`: merge 2 dataframes and create new one that contains all itmes of 2nd dataframe and only intersected items from first"
   ]
  },
  {
   "cell_type": "code",
   "execution_count": 6,
   "metadata": {},
   "outputs": [
    {
     "name": "stdout",
     "output_type": "stream",
     "text": [
      "    name   food\n",
      "0  Peter   fish\n",
      "1   Paul  beans\n",
      "2   Mary  bread\n",
      "---------------------------------\n",
      "     name         drink\n",
      "0    Mary          cola\n",
      "1  Joseph  orange juice\n",
      "---------------------------------\n",
      "   name   food drink\n",
      "0  Mary  bread  cola\n",
      "---------------------------------\n",
      "   name   food drink\n",
      "0  Mary  bread  cola\n",
      "---------------------------------\n",
      "     name   food         drink\n",
      "0   Peter   fish           NaN\n",
      "1    Paul  beans           NaN\n",
      "2    Mary  bread          cola\n",
      "3  Joseph    NaN  orange juice\n",
      "---------------------------------\n",
      "     name   food         drink\n",
      "0    Mary  bread          cola\n",
      "1  Joseph    NaN  orange juice\n",
      "---------------------------------\n",
      "    name   food drink\n",
      "0  Peter   fish   NaN\n",
      "1   Paul  beans   NaN\n",
      "2   Mary  bread  cola\n",
      "---------------------------------\n"
     ]
    }
   ],
   "source": [
    "import pandas as pd\n",
    "\n",
    "food_orders = pd.DataFrame({\n",
    "    'name': ['Peter', 'Paul', 'Mary'],\n",
    "    'food': ['fish', 'beans', 'bread']\n",
    "})\n",
    "\n",
    "drink_orders = pd.DataFrame({\n",
    "    'name': ['Mary', 'Joseph'],\n",
    "    'drink': ['cola', 'orange juice']\n",
    "})\n",
    "\n",
    "print(food_orders)\n",
    "print('---------------------------------')\n",
    "print(drink_orders)\n",
    "print('---------------------------------')\n",
    "print(pd.merge(food_orders, drink_orders))\n",
    "print('---------------------------------')\n",
    "print(pd.merge(food_orders, drink_orders, how='inner'))\n",
    "print('---------------------------------')\n",
    "print(pd.merge(food_orders, drink_orders, how='outer'))\n",
    "print('---------------------------------')\n",
    "print(pd.merge(food_orders, drink_orders, how='right'))\n",
    "print('---------------------------------')\n",
    "print(pd.merge(food_orders, drink_orders, how='left'))\n",
    "print('---------------------------------')"
   ]
  },
  {
   "cell_type": "markdown",
   "metadata": {},
   "source": [
    "<span style=\"color:#41bc66\">**drop()**</span>"
   ]
  },
  {
   "cell_type": "markdown",
   "metadata": {},
   "source": [
    "method removes the specified row or column. By specifying the column axis ( axis='columns' ), the `drop()` method removes the specified column.\n",
    "By specifying the row axis `( axis='index' )`, the `drop()` method removes the specified row."
   ]
  },
  {
   "cell_type": "code",
   "execution_count": 82,
   "metadata": {},
   "outputs": [
    {
     "name": "stdout",
     "output_type": "stream",
     "text": [
      "  employee        group\n",
      "0      Bob   Accounting\n",
      "1     Jake  Engineering\n",
      "2     Lisa  Engineering\n",
      "3      Sue           HR\n",
      "---------------------------------\n",
      "   name  salary\n",
      "0   Bob   70000\n",
      "1  Jake   80000\n",
      "2  Lisa  120000\n",
      "3   Sue   90000\n",
      "---------------------------------\n",
      "  employee        group  name  salary\n",
      "0      Bob   Accounting   Bob   70000\n",
      "1     Jake  Engineering  Jake   80000\n",
      "2     Lisa  Engineering  Lisa  120000\n",
      "3      Sue           HR   Sue   90000\n",
      "---------------------------------\n",
      "  employee        group  salary\n",
      "0      Bob   Accounting   70000\n",
      "1     Jake  Engineering   80000\n",
      "2     Lisa  Engineering  120000\n",
      "3      Sue           HR   90000\n",
      "----------------------------------\n"
     ]
    }
   ],
   "source": [
    "import pandas as pd\n",
    "\n",
    "df1 = pd.DataFrame({'employee': ['Bob', 'Jake', 'Lisa', 'Sue'],\n",
    "                    'group': ['Accounting', 'Engineering', 'Engineering', 'HR']})\n",
    "\n",
    "df2 = pd.DataFrame({'name': ['Bob', 'Jake', 'Lisa', 'Sue'],\n",
    "                    'salary': [70000, 80000, 120000, 90000]})\n",
    "\n",
    "print(df1)\n",
    "print('---------------------------------')\n",
    "print(df2)\n",
    "print('---------------------------------')\n",
    "\n",
    "df3 = pd.merge(df1, df2, left_on='employee', right_on='name')\n",
    "print(df3)\n",
    "print('---------------------------------')\n",
    "print(df3.drop('name', axis=1))\n",
    "print('----------------------------------')"
   ]
  },
  {
   "cell_type": "markdown",
   "metadata": {},
   "source": [
    "<span style=\"color:#41bc66\">**set_index()**</span>"
   ]
  },
  {
   "cell_type": "markdown",
   "metadata": {},
   "source": [
    "method allows one or more column values become the row index."
   ]
  },
  {
   "cell_type": "code",
   "execution_count": 1,
   "metadata": {},
   "outputs": [
    {
     "name": "stdout",
     "output_type": "stream",
     "text": [
      "     name  age  qualified\n",
      "0    Mark   50       True\n",
      "1    John   40      False\n",
      "2    Lisa   30      False\n",
      "3  Monica   40       True\n",
      "-----------------------------------------\n",
      "        age  qualified\n",
      "name                  \n",
      "Mark     50       True\n",
      "John     40      False\n",
      "Lisa     30      False\n",
      "Monica   40       True\n",
      "-----------------------------------------\n"
     ]
    }
   ],
   "source": [
    "import pandas as pd\n",
    "\n",
    "data = {\n",
    "    'name': ['Mark', 'John', 'Lisa', 'Monica'],\n",
    "    'age': [50, 40, 30, 40],\n",
    "    'qualified': [True, False, False, True]\n",
    "}\n",
    "\n",
    "df = pd.DataFrame(data)\n",
    "\n",
    "print(df)\n",
    "print('-----------------------------------------')\n",
    "new_df = df.set_index('name')\n",
    "print(new_df)\n",
    "print('-----------------------------------------')"
   ]
  },
  {
   "cell_type": "markdown",
   "metadata": {},
   "source": [
    "<span style=\"color:#41bc66\">**groupby()**</span>"
   ]
  },
  {
   "cell_type": "markdown",
   "metadata": {},
   "source": [
    "- is used for grouping the data according to the categories and apply a function to the categories.\n",
    "- It also helps to aggregate data efficiently. Pandas `dataframe.groupby()` function is used to split the data into groups based on some criteria."
   ]
  },
  {
   "cell_type": "code",
   "execution_count": 27,
   "metadata": {},
   "outputs": [
    {
     "name": "stdout",
     "output_type": "stream",
     "text": [
      "  key  data\n",
      "0   A     0\n",
      "1   B     1\n",
      "2   C     2\n",
      "3   A     3\n",
      "4   B     4\n",
      "5   C     5\n",
      "-----------------\n",
      "     data\n",
      "key      \n",
      "A       0\n",
      "B       1\n",
      "C       2\n",
      "-----------------\n",
      "     data\n",
      "key      \n",
      "A       3\n",
      "B       5\n",
      "C       7\n",
      "-----------------\n",
      "     data                                         \n",
      "    count mean      std  min   25%  50%   75%  max\n",
      "key                                               \n",
      "A     2.0  1.5  2.12132  0.0  0.75  1.5  2.25  3.0\n",
      "B     2.0  2.5  2.12132  1.0  1.75  2.5  3.25  4.0\n",
      "C     2.0  3.5  2.12132  2.0  2.75  3.5  4.25  5.0\n",
      "-----------------\n",
      "             key\n",
      "data  count  A      2.00000\n",
      "             B      2.00000\n",
      "             C      2.00000\n",
      "      mean   A      1.50000\n",
      "             B      2.50000\n",
      "             C      3.50000\n",
      "      std    A      2.12132\n",
      "             B      2.12132\n",
      "             C      2.12132\n",
      "      min    A      0.00000\n",
      "             B      1.00000\n",
      "             C      2.00000\n",
      "      25%    A      0.75000\n",
      "             B      1.75000\n",
      "             C      2.75000\n",
      "      50%    A      1.50000\n",
      "             B      2.50000\n",
      "             C      3.50000\n",
      "      75%    A      2.25000\n",
      "             B      3.25000\n",
      "             C      4.25000\n",
      "      max    A      3.00000\n",
      "             B      4.00000\n",
      "             C      5.00000\n",
      "dtype: float64\n",
      "-----------------\n"
     ]
    }
   ],
   "source": [
    "import pandas as pd\n",
    "\n",
    "data = {\n",
    "    'key': ['A', 'B', 'C', 'A', 'B', 'C'],\n",
    "    'data': range(6)\n",
    "}\n",
    "\n",
    "df = pd.DataFrame(data)\n",
    "\n",
    "print(df)\n",
    "print('-----------------')\n",
    "gdf = df.groupby('key')\n",
    "print(gdf.first())          #get first value of each group\n",
    "print('-----------------')\n",
    "print(gdf.sum())            #sum of each group\n",
    "print('-----------------')\n",
    "print(gdf.describe())\n",
    "print('-----------------')\n",
    "print(gdf.describe().unstack())\n",
    "print('-----------------')"
   ]
  },
  {
   "cell_type": "markdown",
   "metadata": {},
   "source": [
    "<span style=\"color:#41bc66\">**aggregate()**</span>"
   ]
  },
  {
   "cell_type": "markdown",
   "metadata": {},
   "source": [
    "method allows you to apply a function or a list of function names to be executed along one of the axis of the DataFrame"
   ]
  },
  {
   "cell_type": "code",
   "execution_count": 28,
   "metadata": {},
   "outputs": [
    {
     "name": "stdout",
     "output_type": "stream",
     "text": [
      "  key  data1  data2\n",
      "0   A      0      0\n",
      "1   B      1      9\n",
      "2   C      2      2\n",
      "3   A      3      9\n",
      "4   B      4      4\n",
      "5   C      5      2\n",
      "------------------\n",
      "     data1  data2\n",
      "key              \n",
      "A        0      9\n",
      "B        1      9\n",
      "C        2      2\n"
     ]
    }
   ],
   "source": [
    "import numpy as np\n",
    "import pandas as pd\n",
    "\n",
    "df = pd.DataFrame({\n",
    "    'key': ['A', 'B', 'C', 'A', 'B', 'C'],\n",
    "    'data1': range(6),\n",
    "    'data2': np.random.randint(0, 10, size=6)\n",
    "})\n",
    "\n",
    "print(df)\n",
    "print('------------------')\n",
    "new_df = df.groupby('key').aggregate({'data1': 'min', 'data2': 'max'})\n",
    "print(new_df)"
   ]
  },
  {
   "cell_type": "markdown",
   "metadata": {},
   "source": [
    "<span style=\"color:#41bc66\">**filter()**</span>"
   ]
  },
  {
   "cell_type": "markdown",
   "metadata": {},
   "source": [
    "- function filters the DataFame for rows and columns.\n",
    "- The returned DataFrame contains only rows and columns that are specified with the function.\n",
    "- It doesn’t update the existing DataFrame instead it always returns a new one."
   ]
  },
  {
   "cell_type": "code",
   "execution_count": 31,
   "metadata": {},
   "outputs": [
    {
     "name": "stdout",
     "output_type": "stream",
     "text": [
      "  key  data1  data2\n",
      "0   A      0      5\n",
      "1   B      1      9\n",
      "2   C      2      7\n",
      "3   A      3      5\n",
      "4   B      4      1\n",
      "5   C      5      8\n",
      "------------------\n",
      "  key  data1  data2\n",
      "1   B      1      9\n",
      "4   B      4      1\n",
      "---------------------\n"
     ]
    }
   ],
   "source": [
    "import numpy as np\n",
    "import pandas as pd\n",
    "\n",
    "df = pd.DataFrame({\n",
    "    'key': ['A', 'B', 'C', 'A', 'B', 'C'],\n",
    "    'data1': range(6),\n",
    "    'data2': np.random.randint(0, 10, size=6)\n",
    "})\n",
    "\n",
    "print(df)\n",
    "print('------------------')\n",
    "\n",
    "def  filter_func(x):\n",
    "    return x['data2'].std() > 4\n",
    "\n",
    "print(df.groupby('key').filter(filter_func))\n",
    "print('---------------------')"
   ]
  },
  {
   "cell_type": "markdown",
   "metadata": {},
   "source": [
    "<span style=\"color:#41bc66\">**trasnform()**</span>"
   ]
  },
  {
   "cell_type": "markdown",
   "metadata": {},
   "source": [
    " function call func on self producing a DataFrame with transformed values and that has the same axis length as self."
   ]
  },
  {
   "cell_type": "code",
   "execution_count": 32,
   "metadata": {},
   "outputs": [
    {
     "name": "stdout",
     "output_type": "stream",
     "text": [
      "  key  data1  data2\n",
      "0   A      0      3\n",
      "1   B      1      8\n",
      "2   C      2      5\n",
      "3   A      3      4\n",
      "4   B      4      4\n",
      "5   C      5      8\n",
      "------------------\n",
      "   data1  data2\n",
      "0      0      9\n",
      "1      1     64\n",
      "2      4     25\n",
      "3      9     16\n",
      "4     16     16\n",
      "5     25     64\n",
      "------------------\n"
     ]
    }
   ],
   "source": [
    "import numpy as np\n",
    "import pandas as pd\n",
    "\n",
    "df = pd.DataFrame({\n",
    "    'key': ['A', 'B', 'C', 'A', 'B', 'C'],\n",
    "    'data1': range(6),\n",
    "    'data2': np.random.randint(0, 10, size=6)\n",
    "})\n",
    "\n",
    "print(df)\n",
    "print('------------------')\n",
    "new_df = df.groupby('key').transform(lambda x: x**2)\n",
    "print(new_df)\n",
    "print('------------------')"
   ]
  }
 ],
 "metadata": {
  "kernelspec": {
   "display_name": "Python 3.9.13 ('base')",
   "language": "python",
   "name": "python3"
  },
  "language_info": {
   "codemirror_mode": {
    "name": "ipython",
    "version": 3
   },
   "file_extension": ".py",
   "mimetype": "text/x-python",
   "name": "python",
   "nbconvert_exporter": "python",
   "pygments_lexer": "ipython3",
   "version": "3.9.13"
  },
  "orig_nbformat": 4,
  "vscode": {
   "interpreter": {
    "hash": "6def978b754c6b424a81f137edb3e53cb61fdde3652f12deb127d74c72b360ea"
   }
  }
 },
 "nbformat": 4,
 "nbformat_minor": 2
}
