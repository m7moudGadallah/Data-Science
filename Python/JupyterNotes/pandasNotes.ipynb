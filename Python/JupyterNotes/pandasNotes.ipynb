{
 "cells": [
  {
   "cell_type": "markdown",
   "metadata": {},
   "source": [
    "# Pandas"
   ]
  },
  {
   "cell_type": "markdown",
   "metadata": {},
   "source": [
    "- is Python library used to analyze data\n",
    "- has functions for analyzing, cleaning, exploring, and manipulating data\n",
    "- `Pandas` refer to \"Python Data Analysis\""
   ]
  },
  {
   "cell_type": "markdown",
   "metadata": {},
   "source": [
    "***Why Pandas?***\n",
    "- allows us to analyze big data and make conclusions based on statistical theories.\n",
    "- can clean messy data sets, and make them readable and relevant."
   ]
  },
  {
   "cell_type": "markdown",
   "metadata": {},
   "source": [
    "## <span style=\"color: #cccc32\">Series</span>"
   ]
  },
  {
   "cell_type": "markdown",
   "metadata": {},
   "source": [
    "- is like a column in a table.\n",
    "- It is a one-dimensional array holding data of any type."
   ]
  },
  {
   "cell_type": "markdown",
   "metadata": {},
   "source": [
    "***Labels (index)***\n",
    "- If nothing else is specified, the values are labeled with their index number. First value has index 0, second value has index 1 etc."
   ]
  },
  {
   "cell_type": "code",
   "execution_count": 5,
   "metadata": {},
   "outputs": [
    {
     "name": "stdout",
     "output_type": "stream",
     "text": [
      "0    0.25\n",
      "1    0.50\n",
      "2    0.75\n",
      "3    1.00\n",
      "dtype: float64\n",
      "---------------------\n",
      "<class 'pandas.core.series.Series'>\n",
      "---------------------\n",
      "[0.25 0.5  0.75 1.  ]\n",
      "---------------------\n",
      "RangeIndex(start=0, stop=4, step=1)\n",
      "---------------------\n",
      "<bound method Series.keys of 0    0.25\n",
      "1    0.50\n",
      "2    0.75\n",
      "3    1.00\n",
      "dtype: float64>\n",
      "---------------------\n"
     ]
    }
   ],
   "source": [
    "import pandas as pd\n",
    "\n",
    "data = pd.Series([0.25, 0.5, 0.75, 1.0])\n",
    "\n",
    "print(data)\n",
    "print('---------------------')\n",
    "print(type(data))\n",
    "print('---------------------')\n",
    "print(data.values)\n",
    "print('---------------------')\n",
    "print(data.index)\n",
    "print('---------------------')\n",
    "print(data.keys)\n",
    "print('---------------------')"
   ]
  },
  {
   "cell_type": "markdown",
   "metadata": {},
   "source": [
    "<span style=\"color:#41bc66\">**describe()**</span>"
   ]
  },
  {
   "cell_type": "markdown",
   "metadata": {},
   "source": [
    "- method returns description of the data in the DataFrame or Series.\n",
    "\n",
    "```python\n",
    "count - The number of not-empty values.\n",
    "mean - The average (mean) value.\n",
    "std - The standard deviation.\n",
    "min - the minimum value.\n",
    "25% - The 25% percentile*.\n",
    "50% - The 50% percentile*.\n",
    "75% - The 75% percentile*.\n",
    "max - the maximum value.\n",
    "```"
   ]
  },
  {
   "cell_type": "code",
   "execution_count": 7,
   "metadata": {},
   "outputs": [
    {
     "name": "stdout",
     "output_type": "stream",
     "text": [
      "<class 'pandas.core.series.Series'>\n",
      "---------------------\n",
      "count    11.000000\n",
      "mean      5.363636\n",
      "std       2.292280\n",
      "min       2.000000\n",
      "25%       3.500000\n",
      "50%       5.000000\n",
      "75%       7.000000\n",
      "max       9.000000\n",
      "dtype: float64\n",
      "---------------------\n"
     ]
    }
   ],
   "source": [
    "import pandas as pd\n",
    "\n",
    "data_list = [3, 6, 9, 8, 5, 4, 2, 6, 3, 5, 8]\n",
    "\n",
    "data = pd.Series(data_list)\n",
    "\n",
    "data_description = data.describe()\n",
    "\n",
    "print(type(data_description))\n",
    "print('---------------------')\n",
    "print(data_description)\n",
    "print('---------------------')"
   ]
  },
  {
   "cell_type": "markdown",
   "metadata": {},
   "source": [
    "<span style=\"color:#41bc66\">**agg()**</span>"
   ]
  },
  {
   "cell_type": "markdown",
   "metadata": {},
   "source": [
    "- the same as describe but it doesn't show all description just the information passed for it"
   ]
  },
  {
   "cell_type": "code",
   "execution_count": 9,
   "metadata": {},
   "outputs": [
    {
     "name": "stdout",
     "output_type": "stream",
     "text": [
      "min     2.000000\n",
      "max     9.000000\n",
      "mean    5.363636\n",
      "std     2.292280\n",
      "dtype: float64\n",
      "-------------------------\n"
     ]
    }
   ],
   "source": [
    "import pandas as pd\n",
    "\n",
    "data_list = [3, 6, 9, 8, 5, 4, 2, 6, 3, 5, 8]\n",
    "\n",
    "data = pd.Series(data_list)\n",
    "\n",
    "data_description = data.agg(['min', 'max', 'mean', 'std'])\n",
    "\n",
    "print(data_description)\n",
    "print('-------------------------')"
   ]
  },
  {
   "cell_type": "markdown",
   "metadata": {},
   "source": [
    "<span style=\"color:#41bc66\">**Accessing & Slicing**</span>"
   ]
  },
  {
   "cell_type": "markdown",
   "metadata": {},
   "source": [
    "- here we can access data with index and also slice it as `lists`"
   ]
  },
  {
   "cell_type": "code",
   "execution_count": 10,
   "metadata": {},
   "outputs": [
    {
     "name": "stdout",
     "output_type": "stream",
     "text": [
      "1    6\n",
      "2    9\n",
      "dtype: int64\n",
      "----------------------\n",
      "1    6\n",
      "3    8\n",
      "5    4\n",
      "dtype: int64\n",
      "----------------------\n",
      "4\n",
      "----------------------\n"
     ]
    }
   ],
   "source": [
    "import pandas as pd\n",
    "\n",
    "data_list = [3, 6, 9, 8, 5, 4, 2, 6, 3, 5, 8]\n",
    "\n",
    "print(data[1:3])\n",
    "print('----------------------')\n",
    "print(data[1:6:2])\n",
    "print('----------------------')\n",
    "print(data[5])\n",
    "print('----------------------')"
   ]
  },
  {
   "cell_type": "markdown",
   "metadata": {},
   "source": [
    "<span style=\"color:#41bc66\">**create index \"labels\"**</span>"
   ]
  },
  {
   "cell_type": "markdown",
   "metadata": {},
   "source": [
    "- we can set indexs as we want not just use default indices"
   ]
  },
  {
   "cell_type": "code",
   "execution_count": 14,
   "metadata": {},
   "outputs": [
    {
     "name": "stdout",
     "output_type": "stream",
     "text": [
      "a    3\n",
      "b    6\n",
      "c    9\n",
      "d    8\n",
      "dtype: int64\n",
      "------------------------\n",
      "a    3\n",
      "b    6\n",
      "c    9\n",
      "d    8\n",
      "dtype: int64\n",
      "------------------------\n",
      "a    3\n",
      "b    6\n",
      "c    9\n",
      "d    8\n",
      "dtype: int64\n",
      "------------------------\n",
      "a    3\n",
      "b    6\n",
      "c    9\n",
      "d    8\n",
      "dtype: int64\n",
      "------------------------\n"
     ]
    }
   ],
   "source": [
    "import pandas as pd\n",
    "\n",
    "data_list = [3, 6, 9, 8]\n",
    "indexs = ['a', 'b', 'c', 'd']\n",
    "new_data_list = dict(zip(indexs, data_list))\n",
    "\n",
    "data1 = pd.Series(data_list, index={'a':3, 'b':6, 'c':9, 'd':8})\n",
    "data2 = pd.Series(data_list, index=indexs) \n",
    "data3 = pd.Series(new_data_list)\n",
    "data4 = pd.Series({'a':3, 'b':6, 'c':9, 'd':8})\n",
    "\n",
    "print(data1)\n",
    "print('------------------------')\n",
    "print(data2)\n",
    "print('------------------------')\n",
    "print(data3)\n",
    "print('------------------------')\n",
    "print(data4)\n",
    "print('------------------------')"
   ]
  },
  {
   "cell_type": "markdown",
   "metadata": {},
   "source": [
    "<span style=\"color:#41bc66\">**Operators (`&, |, ^`)**</span>"
   ]
  },
  {
   "cell_type": "markdown",
   "metadata": {},
   "source": [
    "- we use them to filter data\n",
    "    - `&`: to get intersection between 2 lists\n",
    "    - `|`: union\n",
    "    - `^`: values not repeated in just one of lists and not in another"
   ]
  },
  {
   "cell_type": "code",
   "execution_count": 20,
   "metadata": {},
   "outputs": [
    {
     "name": "stdout",
     "output_type": "stream",
     "text": [
      "Int64Index([0, 1, 3, 5, 7, 9], dtype='int64')\n",
      "--------------------------\n",
      "Int64Index([2, 3, 5, 6, 9], dtype='int64')\n",
      "--------------------------\n",
      "Int64Index([3, 5, 9], dtype='int64')\n",
      "--------------------------\n",
      "Int64Index([0, 1, 2, 3, 5, 6, 7, 9], dtype='int64')\n",
      "--------------------------\n",
      "Int64Index([0, 1, 2, 6, 7], dtype='int64')\n",
      "--------------------------\n"
     ]
    },
    {
     "name": "stderr",
     "output_type": "stream",
     "text": [
      "/tmp/ipykernel_48679/734037960.py:10: FutureWarning: Index.__and__ operating as a set operation is deprecated, in the future this will be a logical operation matching Series.__and__.  Use index.intersection(other) instead.\n",
      "  print(a&b)              #intersection\n",
      "/tmp/ipykernel_48679/734037960.py:12: FutureWarning: Index.__or__ operating as a set operation is deprecated, in the future this will be a logical operation matching Series.__or__.  Use index.union(other) instead.\n",
      "  print(a|b)              #union\n",
      "/tmp/ipykernel_48679/734037960.py:14: FutureWarning: Index.__xor__ operating as a set operation is deprecated, in the future this will be a logical operation matching Series.__xor__.  Use index.symmetric_difference(other) instead.\n",
      "  print(a^b)      #means get numbers not repeated ('just in a or b not in both')\n"
     ]
    }
   ],
   "source": [
    "import pandas as pd\n",
    "\n",
    "a = pd.Index([0, 1, 3, 5, 7, 9])\n",
    "b = pd.Index([2, 3, 5, 6, 9])\n",
    "\n",
    "print(a)\n",
    "print('--------------------------')\n",
    "print(b)\n",
    "print('--------------------------')\n",
    "print(a&b)              #intersection\n",
    "print('--------------------------')\n",
    "print(a|b)              #union\n",
    "print('--------------------------')\n",
    "print(a^b)      #means get numbers not repeated ('just in a or b not in both')\n",
    "print('--------------------------')"
   ]
  }
 ],
 "metadata": {
  "kernelspec": {
   "display_name": "Python 3.9.13 ('base')",
   "language": "python",
   "name": "python3"
  },
  "language_info": {
   "codemirror_mode": {
    "name": "ipython",
    "version": 3
   },
   "file_extension": ".py",
   "mimetype": "text/x-python",
   "name": "python",
   "nbconvert_exporter": "python",
   "pygments_lexer": "ipython3",
   "version": "3.9.13"
  },
  "orig_nbformat": 4,
  "vscode": {
   "interpreter": {
    "hash": "6def978b754c6b424a81f137edb3e53cb61fdde3652f12deb127d74c72b360ea"
   }
  }
 },
 "nbformat": 4,
 "nbformat_minor": 2
}
